{
 "cells": [
  {
   "cell_type": "code",
   "execution_count": 6,
   "metadata": {},
   "outputs": [],
   "source": [
    "import pandas as pd\n",
    "import numpy as np\n",
    "import gc\n",
    "np.random.seed(2019)\n",
    "\n",
    "import warnings\n",
    "warnings.filterwarnings('ignore')\n",
    "\n",
    "from ml_metrics import rmsle\n",
    "from sklearn.metrics import make_scorer, accuracy_score\n",
    "\n",
    "from sklearn.model_selection import train_test_split, StratifiedKFold\n",
    "\n",
    "import xgboost as xgb\n",
    "\n",
    "from functools import partial\n",
    "from hyperopt import hp\n",
    "from hyperopt import hp, fmin, tpe, STATUS_OK, Trials\n",
    "\n",
    "import eli5\n",
    "from eli5.sklearn import PermutationImportance\n",
    "from eli5.permutation_importance import get_score_importances\n",
    "\n",
    "import xgbfir\n",
    "\n",
    "from scikitplot.estimators import plot_learning_curve\n",
    "\n",
    "import matplotlib.pyplot as plt\n",
    "\n",
    "%matplotlib inline\n",
    "\n",
    "from tqdm import tqdm"
   ]
  },
  {
   "cell_type": "code",
   "execution_count": null,
   "metadata": {},
   "outputs": [],
   "source": [
    "train = pd.read_hdf('pml5/module3/input/diabetic_train.h5')\n",
    "test = pd.read_hdf('pml5/module3/input/diabetic_test.h5')"
   ]
  },
  {
   "cell_type": "code",
   "execution_count": null,
   "metadata": {},
   "outputs": [],
   "source": [
    "train = pd.read_hdf('../input/diabetic_train.h5')\n",
    "test = pd.read_hdf('../input/diabetic_test.h5')"
   ]
  },
  {
   "cell_type": "code",
   "execution_count": 7,
   "metadata": {},
   "outputs": [],
   "source": [
    "train = pd.read_hdf('diabetic_train.h5')\n",
    "test = pd.read_hdf('diabetic_test.h5')"
   ]
  },
  {
   "cell_type": "code",
   "execution_count": 8,
   "metadata": {},
   "outputs": [
    {
     "data": {
      "text/plain": [
       "44"
      ]
     },
     "execution_count": 8,
     "metadata": {},
     "output_type": "execute_result"
    }
   ],
   "source": [
    "df_all = pd.concat([train, test])\n",
    "del train, test\n",
    "gc.collect()"
   ]
  },
  {
   "cell_type": "markdown",
   "metadata": {},
   "source": [
    "# Feature Engineering"
   ]
  },
  {
   "cell_type": "markdown",
   "metadata": {},
   "source": [
    "cechy do zwykłej faktoryzacji"
   ]
  },
  {
   "cell_type": "code",
   "execution_count": 9,
   "metadata": {},
   "outputs": [],
   "source": [
    "factor = ['race', 'gender', 'payer_code', 'medical_specialty', 'diag_1', 'diag_2', 'diag_3']"
   ]
  },
  {
   "cell_type": "code",
   "execution_count": 10,
   "metadata": {},
   "outputs": [],
   "source": [
    "for cat_feat in factor:\n",
    "    df_all['{0}_cat'.format(cat_feat)] = pd.factorize( df_all[cat_feat] )[0]"
   ]
  },
  {
   "cell_type": "markdown",
   "metadata": {},
   "source": [
    "cechy do faktoryzacji posortowane - wszystkie modele były minimalnie lepsze w tej wersji"
   ]
  },
  {
   "cell_type": "code",
   "execution_count": 11,
   "metadata": {},
   "outputs": [],
   "source": [
    "factor_to_sort = ['age', 'weight', 'max_glu_serum', 'A1Cresult']\n",
    "age_idx = {'[0-10)': 0, '[10-20)': 1, '[20-30)': 2, '[30-40)': 3, '[40-50)': 4, '[50-60)': 5, '[60-70)': 6, '[70-80)': 7,\n",
    "           '[80-90)': 8, '[90-100)': 9}\n",
    "weight_idx = {'?': 0, '[0-25)': 1, '[25-50)': 2, '[50-75)': 3, '[75-100)': 4, '[100-125)': 5, '[125-150)': 6, '[150-175)': 7,\n",
    "              '[175-200)': 8}\n",
    "max_glu_serum_idx = {'None': 0, 'Norm': 1, '>200': 2, '>300': 3}\n",
    "A1Cresult_idx = {'None': 0, 'Norm': 1, '>7': 2, '>8': 3}"
   ]
  },
  {
   "cell_type": "code",
   "execution_count": 12,
   "metadata": {},
   "outputs": [],
   "source": [
    "df_all['age_cat'] = df_all.age.map(lambda x: age_idx[x])\n",
    "df_all['weight_cat'] = df_all.weight.map(lambda x: weight_idx[x])\n",
    "df_all['max_glu_serum_cat'] = df_all.max_glu_serum.map(lambda x: max_glu_serum_idx[x])\n",
    "df_all['A1Cresult_cat'] = df_all.A1Cresult.map(lambda x: A1Cresult_idx[x])"
   ]
  },
  {
   "cell_type": "markdown",
   "metadata": {},
   "source": [
    "zliczanie rozpoznań (1-3) dla rekordu"
   ]
  },
  {
   "cell_type": "code",
   "execution_count": 13,
   "metadata": {},
   "outputs": [],
   "source": [
    "df_all['diag_nr'] = df_all[ ['diag_1', 'diag_2', 'diag_3'] ]\\\n",
    "                             .apply(lambda x: int(x['diag_1']!='?') + int(x['diag_2']!='?') + int(x['diag_3']!='?'), axis=1)"
   ]
  },
  {
   "cell_type": "markdown",
   "metadata": {},
   "source": [
    "zliczanie rekordów w bazie dla pacjenta - wersja wolniejsza (40s) i szybsza ze słownikiem (12s) \n",
    "- główna cecha, która dała 1.37 pierwszego dnia"
   ]
  },
  {
   "cell_type": "code",
   "execution_count": null,
   "metadata": {},
   "outputs": [],
   "source": [
    "%time df_all['encounter_nr'] = df_all[ ['patient_nbr'] ]\\\n",
    "                             .apply(lambda x: df_all[ df_all['patient_nbr'] == x['patient_nbr']].shape[0], axis=1)"
   ]
  },
  {
   "cell_type": "code",
   "execution_count": 14,
   "metadata": {},
   "outputs": [
    {
     "name": "stdout",
     "output_type": "stream",
     "text": [
      "Wall time: 11.6 s\n",
      "Wall time: 719 ms\n"
     ]
    }
   ],
   "source": [
    "%time sum_encounter_nr = df_all.groupby('patient_nbr').agg(len)['encounter_id'].to_dict()\n",
    "%time df_all['encounter_nr'] = df_all[ ['patient_nbr'] ].apply(lambda x: sum_encounter_nr[ x['patient_nbr'] ], axis=1)"
   ]
  },
  {
   "cell_type": "code",
   "execution_count": 15,
   "metadata": {},
   "outputs": [],
   "source": [
    "df_all['encounter_nr_log'] = (np.log(df_all[ df_all['encounter_nr']>0 ]['encounter_nr']+1))"
   ]
  },
  {
   "cell_type": "markdown",
   "metadata": {},
   "source": [
    "sumowanie wszystkich interwencji, nagłych przypadków i wizyt ambulatoryjnych dla rekordu"
   ]
  },
  {
   "cell_type": "code",
   "execution_count": 16,
   "metadata": {},
   "outputs": [],
   "source": [
    "df_all['intervention_nr'] = df_all[ ['number_outpatient', 'number_emergency', 'number_inpatient'] ]\\\n",
    "             .apply(lambda x: x['number_outpatient'] + x['number_emergency'] + x['number_inpatient'], axis=1)"
   ]
  },
  {
   "cell_type": "code",
   "execution_count": 17,
   "metadata": {},
   "outputs": [],
   "source": [
    "df_all['emerg_nr'] = df_all[ ['number_emergency', 'number_inpatient'] ]\\\n",
    "             .apply(lambda x: x['number_emergency'] + x['number_inpatient'], axis=1)"
   ]
  },
  {
   "cell_type": "code",
   "execution_count": 18,
   "metadata": {},
   "outputs": [],
   "source": [
    "df_all['ambulatory_nr'] = df_all[ ['number_outpatient', 'number_emergency'] ]\\\n",
    "             .apply(lambda x: x['number_outpatient'] + x['number_emergency'], axis=1)"
   ]
  },
  {
   "cell_type": "markdown",
   "metadata": {},
   "source": [
    "Koncepcja: powtórne hospitalizacje są częstsze u pacjentów z powikłaniami cukrzycy, nadciśnieniem tętniczym, \n",
    "chorobą niedokrwienną serca, wszystkimi schorzeniami układu krążenia lub otyłoscią.\n",
    "\n",
    "W Polsce do rozpoznań wykorzystywana jest klasyfikacja ICD10. ICD9 stosowana jest tylko do kodów procedur medycznych.\n",
    "Używałem strony http://icd9.chrisendres.com/index.php?action=contents"
   ]
  },
  {
   "cell_type": "code",
   "execution_count": null,
   "metadata": {},
   "outputs": [],
   "source": [
    "diag_list = set()\n",
    "for col in ['diag_1', 'diag_2', 'diag_3']:\n",
    "    for x in df_all[col]:\n",
    "        diag_list.add(x)\n",
    "\n",
    "diag_list"
   ]
  },
  {
   "cell_type": "code",
   "execution_count": 20,
   "metadata": {},
   "outputs": [],
   "source": [
    "diag_dm_compl = {'250.02', '250.03', '250.1', '250.11', '250.12', '250.13', '250.2', '250.21', '250.22', '250.23', '250.3',\n",
    "                 '250.31', '250.32', '250.33', '250.4', '250.41', '250.42', '250.43', '250.5', '250.51', '250.52', '250.53',\n",
    "                 '250.6', '250.7', '250.8', '250.81', '250.82', '250.83', '250.9', '250.91', '250.92', '250.93', '362',\n",
    "                 '365', '365.44', '366', '369', '353', '354', '357', '336', '337', '713', '707', '731', '785', '443', '581',\n",
    "                 '583', '585'}"
   ]
  },
  {
   "cell_type": "code",
   "execution_count": 21,
   "metadata": {},
   "outputs": [],
   "source": [
    "diag_ha = {'401', '402', '403', '404', '405'}"
   ]
  },
  {
   "cell_type": "code",
   "execution_count": 22,
   "metadata": {},
   "outputs": [],
   "source": [
    "diag_ihd = {'410', '411', '412', '413', '414'}"
   ]
  },
  {
   "cell_type": "code",
   "execution_count": 23,
   "metadata": {},
   "outputs": [],
   "source": [
    "diag_circul = {'391', '394', '395', '396', '397', '398', '401', '402', '403', '404', '405', '410', '411', '412',\n",
    " '413', '414', '415', '416', '417', '420', '421', '422', '423', '424', '425', '426', '427', '428', '429', '430',\n",
    " '431', '432', '433', '434', '435', '436', '437', '438', '440', '441', '442', '443', '444', '445', '446', '447',\n",
    " '448', '451', '452', '453', '454', '455', '456', '457', '458', '459'}"
   ]
  },
  {
   "cell_type": "code",
   "execution_count": 24,
   "metadata": {},
   "outputs": [],
   "source": [
    "diag_obesity = {'278', 'V85', '783', '277', 'V45', '649'}"
   ]
  },
  {
   "cell_type": "code",
   "execution_count": 25,
   "metadata": {},
   "outputs": [],
   "source": [
    "df_all['diag_complication_cat'] = df_all[ ['diag_1', 'diag_2', 'diag_3'] ].apply(lambda x:\\\n",
    "                    (x['diag_1'] in diag_dm_compl) | (x['diag_2'] in diag_dm_compl) | (x['diag_3'] in diag_dm_compl), axis=1)"
   ]
  },
  {
   "cell_type": "code",
   "execution_count": 26,
   "metadata": {},
   "outputs": [],
   "source": [
    "df_all['diag_ha_cat'] = df_all[ ['diag_1', 'diag_2', 'diag_3'] ].apply(lambda x:\\\n",
    "                    (x['diag_1'] in diag_ha) | (x['diag_2'] in diag_ha) | (x['diag_3'] in diag_ha), axis=1)"
   ]
  },
  {
   "cell_type": "code",
   "execution_count": 27,
   "metadata": {},
   "outputs": [],
   "source": [
    "df_all['diag_ihd_cat'] = df_all[ ['diag_1', 'diag_2', 'diag_3'] ].apply(lambda x:\\\n",
    "                    (x['diag_1'] in diag_ihd) | (x['diag_2'] in diag_ihd) | (x['diag_3'] in diag_ihd), axis=1)"
   ]
  },
  {
   "cell_type": "code",
   "execution_count": 28,
   "metadata": {},
   "outputs": [],
   "source": [
    "df_all['diag_circul_cat'] = df_all[ ['diag_1', 'diag_2', 'diag_3'] ].apply(lambda x:\\\n",
    "                    (x['diag_1'] in diag_circul) | (x['diag_2'] in diag_circul) | (x['diag_3'] in diag_circul), axis=1)"
   ]
  },
  {
   "cell_type": "code",
   "execution_count": 29,
   "metadata": {},
   "outputs": [],
   "source": [
    "df_all['diag_obesity_cat'] = df_all[ ['diag_1', 'diag_2', 'diag_3'] ].apply(lambda x:\\\n",
    "                    (x['diag_1'] in diag_obesity) | (x['diag_2'] in diag_obesity) | (x['diag_3'] in diag_obesity), axis=1)"
   ]
  },
  {
   "cell_type": "markdown",
   "metadata": {},
   "source": [
    "Koncepcja przypisania do rozpoznania ilości (diag_high_number_80) lub częstości (diag_high_risk_80) readmicji. Wybrano 80 pierwszych rozpoznań z każdej kategorii."
   ]
  },
  {
   "cell_type": "markdown",
   "metadata": {},
   "source": [
    "ryzyko readmisji obliczane jako ilość rekordów '100' do wszystkich rekordów z daną wartością cechy (czasem też jako stosunek '100'/'0')"
   ]
  },
  {
   "cell_type": "code",
   "execution_count": 30,
   "metadata": {},
   "outputs": [],
   "source": [
    "diag_list = {}\n",
    "for col in ['diag_1', 'diag_2', 'diag_3']:\n",
    "    for nr, x in enumerate(df_all[col]):\n",
    "        if x not in diag_list:\n",
    "            diag_list[x] = [0, 0, 0, 0.0]\n",
    "        if df_all['readmitted'].iloc[nr] == 100:\n",
    "            diag_list[x][0] += 1\n",
    "        if df_all['readmitted'].iloc[nr] == 0:\n",
    "            diag_list[x][1] += 1\n",
    "        diag_list[x][2] += 1\n",
    "        if (diag_list[x][1] + diag_list[x][0]) > 0:\n",
    "            diag_list[x][3] = diag_list[x][0] / (diag_list[x][1] + diag_list[x][0])\n",
    "\n",
    "#diag_high_risk_80 = [x[0] for x in sorted(diag_list.items(), key=lambda x: x[1][3], reverse=True)[0:80]]\n",
    "#diag_high_number_80 = [x[0] for x in sorted(diag_list.items(), key=lambda x: x[1][0], reverse=True)[0:80]]\n",
    "#print( [x for x in sorted(diag_list.items(), key=lambda x: x[1][3], reverse=True)[0:80]] )\n",
    "#print( [x for x in sorted(diag_list.items(), key=lambda x: x[1][0], reverse=True)[0:80]] )"
   ]
  },
  {
   "cell_type": "code",
   "execution_count": 31,
   "metadata": {},
   "outputs": [],
   "source": [
    "diag_high_number_80 = {'428', '276', '250', '427', '414', '401', '403', '599', '496', '585', '707', '491', '250.6', '584',\n",
    " '682', '486', '250.02', '780', '410', '996', '786', '434', '518', '425', '285', '411', '250.01', '38', '424', '715', '250.8',\n",
    " '440', '577', '493', '820', '998', '250.7', 'V45', '197', 'V58', '453', '560', '511', 'V57', '789', '571', '296', '578',\n",
    " '785', '272', '8', '250.13', '280', '530', '402', '997', '413', '305', '250.41', '198', '295', '250.82', '536', '162',\n",
    " '435', '733', '507', '574', '562', '433', '250.4', '535', '593', '70', '41', '438', '250.11', '787', '790'}"
   ]
  },
  {
   "cell_type": "code",
   "execution_count": 32,
   "metadata": {},
   "outputs": [],
   "source": [
    "diag_high_risk_80 = {'643', '904', '968', '347', '526', '352', '964', '391', '500', '186', '96', '114', 'E945', '364',\n",
    " 'E887', 'E876', 'E817', '597', '365.44', '838', 'E912', 'E946', '341', '146', '506', '980', '750', '250.31', '967',\n",
    " '619', '236', '48', '973', '580', '445', '208', '854', '11', '82', '684', '271', '890', '826', '334', '141', '258',\n",
    " '712', '908', '313', 'V49', '705', '250.53', '117', '250.42', '150', '913', '494', '452', '250.41', '200', '365',\n",
    " '693', '199', '581', '942', '934', '205', '586', 'V56', '215', '307', '374', '172', '945', '543', '179', '405', '318',\n",
    " '523', 'E924'}"
   ]
  },
  {
   "cell_type": "code",
   "execution_count": 33,
   "metadata": {},
   "outputs": [],
   "source": [
    "df_all['diag_high_number_80_cat'] = df_all[ ['diag_1', 'diag_2', 'diag_3'] ].apply(lambda x:\\\n",
    "    (x['diag_1'] in diag_high_number_80) | (x['diag_2'] in diag_high_number_80) | (x['diag_3'] in diag_high_number_80), axis=1)"
   ]
  },
  {
   "cell_type": "code",
   "execution_count": 34,
   "metadata": {},
   "outputs": [],
   "source": [
    "df_all['diag_high_risk_80_cat'] = df_all[ ['diag_1', 'diag_2', 'diag_3'] ].apply(lambda x:\\\n",
    "    (x['diag_1'] in diag_high_risk_80) | (x['diag_2'] in diag_high_risk_80) | (x['diag_3'] in diag_high_risk_80), axis=1)"
   ]
  },
  {
   "cell_type": "code",
   "execution_count": 35,
   "metadata": {},
   "outputs": [],
   "source": [
    "diag_list = {}\n",
    "for col in ['diag_1', 'diag_2', 'diag_3']:\n",
    "    for nr, x in enumerate(df_all[col]):\n",
    "        if x not in diag_list:\n",
    "            diag_list[x] = [0, 0, 0, 0.0]\n",
    "        if df_all['readmitted'].iloc[nr] == 100:\n",
    "            diag_list[x][0] += 1\n",
    "        if df_all['readmitted'].iloc[nr] == 0:\n",
    "            diag_list[x][1] += 1\n",
    "        diag_list[x][2] += 1\n",
    "        if (diag_list[x][1] + diag_list[x][0]) > 0:\n",
    "            diag_list[x][3] = diag_list[x][0] / (diag_list[x][1] + diag_list[x][0])\n",
    "\n",
    "dgn_risk = {}\n",
    "for x in diag_list.keys():\n",
    "    if diag_list[x][1] > 0:\n",
    "        dgn_risk[x] = diag_list[x][0]/diag_list[x][1]\n",
    "    else:\n",
    "        dgn_risk[x] = diag_list[x][0]\n",
    "        \n",
    "# [x for x in sorted(dgn_risk.items(), key=lambda x: x[1], reverse=True)[0:10]]"
   ]
  },
  {
   "cell_type": "markdown",
   "metadata": {},
   "source": [
    "maksymalne ryzyko readmisji z pól rozpoznań 1-3, suma tych pól i suma wszystkich rekordów dla danego pacjenta"
   ]
  },
  {
   "cell_type": "code",
   "execution_count": 36,
   "metadata": {},
   "outputs": [],
   "source": [
    "df_all['diag_risk_max'] = df_all[ ['diag_1', 'diag_2', 'diag_3'] ].apply(lambda x:\\\n",
    "                    max( dgn_risk[x['diag_1']], dgn_risk[x['diag_2']], dgn_risk[x['diag_3']] ), axis=1)"
   ]
  },
  {
   "cell_type": "code",
   "execution_count": 37,
   "metadata": {},
   "outputs": [],
   "source": [
    "df_all['diag_risk_max_log'] = (np.log(df_all[ df_all['diag_risk_max']>0 ]['diag_risk_max']+1)+5)"
   ]
  },
  {
   "cell_type": "code",
   "execution_count": 38,
   "metadata": {},
   "outputs": [],
   "source": [
    "df_all['diag_risk_sum'] = df_all[ ['diag_1', 'diag_2', 'diag_3'] ].apply(lambda x:\\\n",
    "                    dgn_risk[x['diag_1']] + dgn_risk[x['diag_2']] + dgn_risk[x['diag_3']], axis=1)"
   ]
  },
  {
   "cell_type": "code",
   "execution_count": 39,
   "metadata": {},
   "outputs": [],
   "source": [
    "df_all['diag_risk_sum_log'] = (np.log(df_all[ df_all['diag_risk_sum']>0 ]['diag_risk_sum']+1)+4)"
   ]
  },
  {
   "cell_type": "code",
   "execution_count": 40,
   "metadata": {},
   "outputs": [],
   "source": [
    "dict_sum_diag_risk_by_patient = df_all.groupby('patient_nbr').agg(np.sum)['diag_risk_sum'].to_dict()\n",
    "df_all['total_diag_risk'] = df_all[ ['patient_nbr'] ].apply(lambda x: dict_sum_diag_risk_by_patient[ x['patient_nbr'] ], axis=1)"
   ]
  },
  {
   "cell_type": "code",
   "execution_count": 41,
   "metadata": {},
   "outputs": [],
   "source": [
    "df_all['total_diag_risk_log'] = (np.log(df_all[ df_all['total_diag_risk']>0 ]['total_diag_risk']+1)+4)"
   ]
  },
  {
   "cell_type": "code",
   "execution_count": 42,
   "metadata": {},
   "outputs": [
    {
     "data": {
      "text/plain": [
       "[(15, 2.7142857142857144),\n",
       " (12, 1),\n",
       " (9, 1.0),\n",
       " (28, 0.8),\n",
       " (22, 0.5845511482254697),\n",
       " (5, 0.41946308724832215),\n",
       " (2, 0.32014388489208634),\n",
       " (7, 0.3076923076923077),\n",
       " (3, 0.2982456140350877),\n",
       " (6, 0.28755510342488977),\n",
       " (4, 0.21524663677130046),\n",
       " (24, 0.21428571428571427),\n",
       " (18, 0.20717488789237667),\n",
       " (25, 0.18681318681318682),\n",
       " (1, 0.16918685856561608),\n",
       " (8, 0.13636363636363635),\n",
       " (23, 0.12280701754385964),\n",
       " (13, 0.0783132530120482),\n",
       " (14, 0.06432748538011696),\n",
       " (11, 0.0),\n",
       " (10, 0.0),\n",
       " (17, 0.0),\n",
       " (16, 0.0),\n",
       " (20, 0.0),\n",
       " (19, 0.0),\n",
       " (27, 0.0)]"
      ]
     },
     "execution_count": 42,
     "metadata": {},
     "output_type": "execute_result"
    }
   ],
   "source": [
    "discharge_dict = {}\n",
    "for nr, x in enumerate(df_all['discharge_disposition_id']):\n",
    "    if x not in discharge_dict:\n",
    "        discharge_dict[x] = [0, 0, 0, 0]\n",
    "    if df_all['readmitted'].iloc[nr] == 100:\n",
    "        discharge_dict[x][0] += 1\n",
    "        discharge_dict[x][2] += 1\n",
    "    if df_all['readmitted'].iloc[nr] == 0:\n",
    "        discharge_dict[x][1] += 1\n",
    "        discharge_dict[x][2] += 1\n",
    "    if df_all['readmitted'].iloc[nr] == '':\n",
    "        discharge_dict[x][3] += 1\n",
    "        \n",
    "discharge_risk = {}\n",
    "for x in discharge_dict.keys():\n",
    "    if discharge_dict[x][1] > 0:\n",
    "        discharge_risk[x] = discharge_dict[x][0]/discharge_dict[x][1]\n",
    "    else:\n",
    "        discharge_risk[x] = discharge_dict[x][0]\n",
    "\n",
    "[x for x in sorted(discharge_risk.items(), key=lambda x: x[1], reverse=True)]"
   ]
  },
  {
   "cell_type": "markdown",
   "metadata": {},
   "source": [
    "zgony, flag 13 i 14 (hospicjum) wg mnie nie można tu zaliczyć"
   ]
  },
  {
   "cell_type": "code",
   "execution_count": 43,
   "metadata": {},
   "outputs": [],
   "source": [
    "df_all['expired_cat'] = df_all[ ['discharge_disposition_id'] ].apply(lambda x:\\\n",
    "                    x['discharge_disposition_id'] in [11, 19, 20, 21], axis=1)   # 13, 14 ?"
   ]
  },
  {
   "cell_type": "markdown",
   "metadata": {},
   "source": [
    "ryzyko readmisji związane z trybem wypisu i suma tego parametru dla wszystkich rekordów pacjenta"
   ]
  },
  {
   "cell_type": "code",
   "execution_count": 44,
   "metadata": {},
   "outputs": [],
   "source": [
    "df_all['discharge_risk'] = df_all[ ['discharge_disposition_id'] ].apply(lambda x: \\\n",
    "                                                            discharge_risk[ x['discharge_disposition_id'] ], axis=1)\n",
    "                                                                        "
   ]
  },
  {
   "cell_type": "code",
   "execution_count": 45,
   "metadata": {},
   "outputs": [],
   "source": [
    "sum_discharge_risk = df_all.groupby('patient_nbr').agg(np.sum)['discharge_risk'].to_dict()\n",
    "df_all['sum_discharge_risk'] = df_all[ ['patient_nbr'] ].apply(lambda x: sum_discharge_risk[ x['patient_nbr'] ], axis=1)\n",
    "df_all['sum_discharge_risk_log'] = (np.log(df_all[ df_all['sum_discharge_risk']>0 ]['sum_discharge_risk']+1))"
   ]
  },
  {
   "cell_type": "markdown",
   "metadata": {},
   "source": [
    "czy pacjent był zarówno w zbiorze treningowym jak i testowym - dodane do black_list"
   ]
  },
  {
   "cell_type": "code",
   "execution_count": 46,
   "metadata": {},
   "outputs": [
    {
     "data": {
      "text/plain": [
       "98"
      ]
     },
     "execution_count": 46,
     "metadata": {},
     "output_type": "execute_result"
    }
   ],
   "source": [
    "train = pd.read_hdf('diabetic_train.h5')\n",
    "test = pd.read_hdf('diabetic_test.h5')\n",
    "sum_train = train.groupby('patient_nbr').agg(len)['encounter_id'].to_dict()\n",
    "sum_test = test.groupby('patient_nbr').agg(len)['encounter_id'].to_dict()\n",
    "df_all['train_test_cat'] = df_all[ ['patient_nbr'] ].apply(lambda x:\\\n",
    "                    (x['patient_nbr'] in sum_train) & (x['patient_nbr'] in sum_test), axis=1)\n",
    "del train, test, sum_train, sum_test\n",
    "gc.collect()"
   ]
  },
  {
   "cell_type": "markdown",
   "metadata": {},
   "source": [
    "suma wszystkich rekordów dla pacjenta z kolejnych pól "
   ]
  },
  {
   "cell_type": "code",
   "execution_count": 47,
   "metadata": {},
   "outputs": [],
   "source": [
    "sum_number_outpatient = df_all.groupby('patient_nbr').agg(np.sum)['number_outpatient'].to_dict()\n",
    "df_all['sum_number_outpatient'] = df_all[ ['patient_nbr'] ].apply(lambda x: sum_number_outpatient[ x['patient_nbr'] ], axis=1)"
   ]
  },
  {
   "cell_type": "code",
   "execution_count": 48,
   "metadata": {},
   "outputs": [],
   "source": [
    "sum_number_emergency = df_all.groupby('patient_nbr').agg(np.sum)['number_emergency'].to_dict()\n",
    "df_all['sum_number_emergency'] = df_all[ ['patient_nbr'] ].apply(lambda x: sum_number_emergency[ x['patient_nbr'] ], axis=1)"
   ]
  },
  {
   "cell_type": "code",
   "execution_count": 49,
   "metadata": {},
   "outputs": [],
   "source": [
    "sum_number_inpatient = df_all.groupby('patient_nbr').agg(np.sum)['number_inpatient'].to_dict()\n",
    "df_all['sum_number_inpatient'] = df_all[ ['patient_nbr'] ].apply(lambda x: sum_number_inpatient[ x['patient_nbr'] ], axis=1)"
   ]
  },
  {
   "cell_type": "code",
   "execution_count": 50,
   "metadata": {},
   "outputs": [],
   "source": [
    "sum_num_procedures = df_all.groupby('patient_nbr').agg(np.sum)['num_procedures'].to_dict()\n",
    "df_all['sum_num_procedures'] = df_all[ ['patient_nbr'] ].apply(lambda x: sum_num_procedures[ x['patient_nbr'] ], axis=1)"
   ]
  },
  {
   "cell_type": "code",
   "execution_count": 51,
   "metadata": {},
   "outputs": [],
   "source": [
    "sum_num_lab_procedures = df_all.groupby('patient_nbr').agg(np.sum)['num_lab_procedures'].to_dict()\n",
    "df_all['sum_num_lab_procedures'] = df_all[ ['patient_nbr'] ].apply(lambda x: sum_num_lab_procedures[ x['patient_nbr'] ], axis=1)"
   ]
  },
  {
   "cell_type": "code",
   "execution_count": 52,
   "metadata": {},
   "outputs": [],
   "source": [
    "sum_time_in_hospital = df_all.groupby('patient_nbr').agg(np.sum)['time_in_hospital'].to_dict()\n",
    "df_all['sum_time_in_hospital'] = df_all[ ['patient_nbr'] ].apply(lambda x: sum_time_in_hospital[ x['patient_nbr'] ], axis=1)"
   ]
  },
  {
   "cell_type": "markdown",
   "metadata": {},
   "source": [
    "ilość różnych leków stosowanych u pacjenta przy danej wizycie (rekordzie)"
   ]
  },
  {
   "cell_type": "code",
   "execution_count": 53,
   "metadata": {},
   "outputs": [],
   "source": [
    "if 'drug_multi_nr' in df_all:\n",
    "    del df_all['drug_multi_nr']\n",
    "df_all['drug_multi_nr'] = df_all[ ['metformin'] ].apply(lambda x: 1 if x['metformin'] > 0 else 0, axis=1)\n",
    "\n",
    "drugs = ['repaglinide', 'nateglinide', 'chlorpropamide', 'glimepiride', 'acetohexamide',\n",
    "       'glipizide', 'glyburide', 'tolbutamide', 'pioglitazone',\n",
    "       'rosiglitazone', 'acarbose', 'miglitol', 'troglitazone',\n",
    "       'tolazamide', 'examide', 'citoglipton', 'insulin']\n",
    "\n",
    "for col in drugs:\n",
    "    df_all['drug_multi_nr'] = df_all[ [col, 'drug_multi_nr'] ]\\\n",
    "         .apply(lambda x: x['drug_multi_nr']+1 if x[col] > 0 else x['drug_multi_nr'], axis=1)\n",
    "    \n",
    "def multi_add(x):\n",
    "    if x <= 1: return 2\n",
    "    else: return x\n",
    "\n",
    "drugs = ['glyburide-metformin', 'glipizide-metformin',\n",
    "       'glimepiride-pioglitazone', 'metformin-rosiglitazone',\n",
    "       'metformin-pioglitazone']\n",
    "\n",
    "for col in drugs:\n",
    "    df_all['drug_multi_nr'] = df_all[ [col, 'drug_multi_nr'] ]\\\n",
    "        .apply(lambda x: multi_add(x['drug_multi_nr']) if x[col] > 0 else x['drug_multi_nr'], axis=1)"
   ]
  },
  {
   "cell_type": "markdown",
   "metadata": {},
   "source": [
    "czy pacjent miał 1 lek czy kilka leków"
   ]
  },
  {
   "cell_type": "code",
   "execution_count": 54,
   "metadata": {},
   "outputs": [],
   "source": [
    "df_all['drug_multi_cat'] = df_all[ ['drug_multi_nr'] ].apply(lambda x: x['drug_multi_nr'] > 1, axis=1)"
   ]
  },
  {
   "cell_type": "markdown",
   "metadata": {},
   "source": [
    "łączne ryzyko readmicji dla wszystkich stosowanych leków - suma dla rekordu"
   ]
  },
  {
   "cell_type": "code",
   "execution_count": 55,
   "metadata": {},
   "outputs": [
    {
     "name": "stdout",
     "output_type": "stream",
     "text": [
      "Wall time: 12.8 s\n"
     ]
    }
   ],
   "source": [
    "drug_dict = {}\n",
    "drugs = ['metformin', 'repaglinide', 'nateglinide', 'chlorpropamide', 'glimepiride', 'acetohexamide',\n",
    "         'glipizide', 'glyburide', 'tolbutamide', 'pioglitazone', 'rosiglitazone', 'acarbose', 'miglitol', 'troglitazone',\n",
    "         'tolazamide', 'examide', 'citoglipton', 'insulin', 'glyburide-metformin', 'glipizide-metformin',\n",
    "         'glimepiride-pioglitazone', 'metformin-rosiglitazone', 'metformin-pioglitazone']\n",
    "for col in drugs:\n",
    "    for nr, x in enumerate(df_all[col]):\n",
    "        if col not in drug_dict:\n",
    "            drug_dict[col] = [0, 0, 0, 0]\n",
    "        if df_all[col].iloc[nr] > 0:\n",
    "            if df_all['readmitted'].iloc[nr] == 100:\n",
    "                drug_dict[col][0] += 1\n",
    "                drug_dict[col][2] += 1\n",
    "            if df_all['readmitted'].iloc[nr] == 0:\n",
    "                drug_dict[col][1] += 1\n",
    "                drug_dict[col][2] += 1\n",
    "            if df_all['readmitted'].iloc[nr] == '':\n",
    "                drug_dict[col][3] += 1\n",
    "\n",
    "drug_risk = {}\n",
    "for x in drug_dict.keys():\n",
    "    if drug_dict[x][1] > 0:\n",
    "        drug_risk[x] = drug_dict[x][0] / drug_dict[x][1]        # sprawdzić sumę w mianowniku\n",
    "    else:\n",
    "        drug_risk[x] = drug_dict[x][0]\n",
    "\n",
    "# [x for x in sorted(discharge_risk.items(), key=lambda x: x[1], reverse=True)]                \n",
    "                \n",
    "# [x for x in sorted(drug_risk.items(), key=lambda x: x[1], reverse=True)[0:80]]\n",
    "\n",
    "df_all['sum_drug_risk'] = 0.0\n",
    "\n",
    "def sum_drug_risk(x):\n",
    "    result = 0.0\n",
    "    for col in drugs:\n",
    "        if x[col] > 0:\n",
    "            result += drug_risk[col]\n",
    "    return result\n",
    "\n",
    "%time df_all['sum_drug_risk'] = df_all[ drugs ].apply(lambda x: sum_drug_risk(x), axis=1)"
   ]
  },
  {
   "cell_type": "markdown",
   "metadata": {},
   "source": [
    "łączne ryzyko readmicji dla wszystkich stosowanych leków - suma dla pacjenta"
   ]
  },
  {
   "cell_type": "code",
   "execution_count": 56,
   "metadata": {},
   "outputs": [],
   "source": [
    "sum_drug_risk = df_all.groupby('patient_nbr').agg(np.sum)['sum_drug_risk'].to_dict()\n",
    "df_all['total_drug_risk'] = df_all[ ['patient_nbr'] ].apply(lambda x: sum_drug_risk[ x['patient_nbr'] ], axis=1)\n",
    "df_all['total_drug_risk_log'] = (np.log(df_all[ df_all['total_drug_risk']>0 ]['total_drug_risk']+1)+3)"
   ]
  },
  {
   "cell_type": "markdown",
   "metadata": {},
   "source": [
    "w danej wizycie nie przepisano leku"
   ]
  },
  {
   "cell_type": "code",
   "execution_count": 57,
   "metadata": {},
   "outputs": [],
   "source": [
    "df_all['drug_none_cat'] = df_all[ ['drug_multi_nr'] ].apply(lambda x: x['drug_multi_nr'] == 0, axis=1)"
   ]
  },
  {
   "cell_type": "markdown",
   "metadata": {},
   "source": [
    "stosowano insulinę"
   ]
  },
  {
   "cell_type": "code",
   "execution_count": 58,
   "metadata": {},
   "outputs": [],
   "source": [
    "df_all['drug_insulin_cat'] = df_all[ ['insulin'] ].apply(lambda x: x['insulin'] > 0, axis=1)"
   ]
  },
  {
   "cell_type": "markdown",
   "metadata": {},
   "source": [
    "kolumna używana w procedurze run_two_models - najpierw regresja, później klasyfikacja"
   ]
  },
  {
   "cell_type": "code",
   "execution_count": 59,
   "metadata": {},
   "outputs": [],
   "source": [
    "df_all['model1_cat'] = 0"
   ]
  },
  {
   "cell_type": "markdown",
   "metadata": {},
   "source": [
    "zmieniono leki na wizycie"
   ]
  },
  {
   "cell_type": "code",
   "execution_count": 60,
   "metadata": {},
   "outputs": [
    {
     "name": "stderr",
     "output_type": "stream",
     "text": [
      "100%|██████████████████████████████████████████████████████████████████████████████████| 22/22 [00:22<00:00,  1.01s/it]\n"
     ]
    }
   ],
   "source": [
    "if 'drug_change_cat' in df_all:\n",
    "    del df_all['drug_change_cat']\n",
    "df_all['drug_change_cat'] = df_all[ ['metformin'] ].apply(lambda x: x['metformin'] > 1, axis=1)\n",
    "\n",
    "drugs = ['repaglinide', 'nateglinide', 'chlorpropamide', 'glimepiride', 'acetohexamide',\n",
    "       'glipizide', 'glyburide', 'tolbutamide', 'pioglitazone',\n",
    "       'rosiglitazone', 'acarbose', 'miglitol', 'troglitazone',\n",
    "       'tolazamide', 'examide', 'citoglipton', 'insulin',\n",
    "       'glyburide-metformin', 'glipizide-metformin',\n",
    "       'glimepiride-pioglitazone', 'metformin-rosiglitazone',\n",
    "       'metformin-pioglitazone']\n",
    "\n",
    "for col in tqdm(drugs):\n",
    "    df_all['drug_change_cat'] = df_all[ [col, 'drug_change_cat'] ]\\\n",
    "        .apply(lambda x: (x[col] > 1) | x['drug_change_cat'], axis=1)"
   ]
  },
  {
   "cell_type": "markdown",
   "metadata": {},
   "source": [
    "zwiększono dawki leków"
   ]
  },
  {
   "cell_type": "code",
   "execution_count": 61,
   "metadata": {},
   "outputs": [
    {
     "name": "stderr",
     "output_type": "stream",
     "text": [
      "100%|██████████████████████████████████████████████████████████████████████████████████| 22/22 [00:23<00:00,  1.01s/it]\n"
     ]
    }
   ],
   "source": [
    "if 'drug_up_cat' in df_all:\n",
    "    del df_all['drug_up_cat']\n",
    "df_all['drug_up_cat'] = df_all[ ['metformin'] ].apply(lambda x: x['metformin'] == 2, axis=1)\n",
    "\n",
    "drugs = ['repaglinide', 'nateglinide', 'chlorpropamide', 'glimepiride', 'acetohexamide',\n",
    "       'glipizide', 'glyburide', 'tolbutamide', 'pioglitazone',\n",
    "       'rosiglitazone', 'acarbose', 'miglitol', 'troglitazone',\n",
    "       'tolazamide', 'examide', 'citoglipton', 'insulin',\n",
    "       'glyburide-metformin', 'glipizide-metformin',\n",
    "       'glimepiride-pioglitazone', 'metformin-rosiglitazone',\n",
    "       'metformin-pioglitazone']\n",
    "\n",
    "for col in tqdm(drugs):\n",
    "    df_all['drug_up_cat'] = df_all[ [col, 'drug_up_cat'] ]\\\n",
    "        .apply(lambda x: (x[col] == 2) | x['drug_up_cat'], axis=1)"
   ]
  },
  {
   "cell_type": "markdown",
   "metadata": {},
   "source": [
    "zmniejszono dawki leków"
   ]
  },
  {
   "cell_type": "code",
   "execution_count": 62,
   "metadata": {},
   "outputs": [
    {
     "name": "stderr",
     "output_type": "stream",
     "text": [
      "100%|██████████████████████████████████████████████████████████████████████████████████| 22/22 [00:22<00:00,  1.02s/it]\n"
     ]
    }
   ],
   "source": [
    "if 'drug_down_cat' in df_all:\n",
    "    del df_all['drug_down_cat']\n",
    "df_all['drug_down_cat'] = df_all[ ['metformin'] ].apply(lambda x: x['metformin'] == 3, axis=1)\n",
    "\n",
    "drugs = ['repaglinide', 'nateglinide', 'chlorpropamide', 'glimepiride', 'acetohexamide',\n",
    "       'glipizide', 'glyburide', 'tolbutamide', 'pioglitazone',\n",
    "       'rosiglitazone', 'acarbose', 'miglitol', 'troglitazone',\n",
    "       'tolazamide', 'examide', 'citoglipton', 'insulin',\n",
    "       'glyburide-metformin', 'glipizide-metformin',\n",
    "       'glimepiride-pioglitazone', 'metformin-rosiglitazone',\n",
    "       'metformin-pioglitazone']\n",
    "\n",
    "for col in tqdm(drugs):\n",
    "    df_all['drug_down_cat'] = df_all[ [col, 'drug_down_cat'] ]\\\n",
    "        .apply(lambda x: (x[col] == 3) | x['drug_down_cat'], axis=1)"
   ]
  },
  {
   "cell_type": "markdown",
   "metadata": {},
   "source": [
    "liczenie sum dla pacjenta, logarytmów dla sum i logarytmów dla zwykłych zmiennych \"ciągłych\""
   ]
  },
  {
   "cell_type": "code",
   "execution_count": 63,
   "metadata": {},
   "outputs": [
    {
     "name": "stderr",
     "output_type": "stream",
     "text": [
      "100%|██████████████████████████████████████████████████████████████████████████████████| 13/13 [00:16<00:00,  1.37s/it]\n"
     ]
    },
    {
     "data": {
      "text/plain": [
       "119"
      ]
     },
     "execution_count": 63,
     "metadata": {},
     "output_type": "execute_result"
    }
   ],
   "source": [
    "for col in tqdm(['time_in_hospital', 'num_lab_procedures', 'num_procedures', 'num_medications', 'number_outpatient', \n",
    "            'number_emergency', 'number_inpatient', 'number_diagnoses', 'intervention_nr', 'emerg_nr', 'ambulatory_nr',\n",
    "           'drug_multi_nr', 'diag_nr']):\n",
    "    sum_dict = df_all.groupby('patient_nbr').agg(np.sum)[col].to_dict()\n",
    "    col_name = 'sum_{0}'.format(col)\n",
    "    df_all[col_name] = df_all[ ['patient_nbr'] ]\\\n",
    "            .apply(lambda x: sum_dict[ x['patient_nbr'] ], axis=1)\n",
    "    df_all[col_name+'_log'] = (np.log( df_all[ df_all[col_name]>0 ][col_name]+1 ))\n",
    "    df_all[col+'_log'] = (np.log( df_all[ df_all[col]>0 ][col]+1 ))\n",
    "\n",
    "del sum_dict, col_name\n",
    "gc.collect()"
   ]
  },
  {
   "cell_type": "markdown",
   "metadata": {},
   "source": [
    "sprawdzanie i wypełnianie zerem wartoiści NaN - występowały tylko dla logarytmów"
   ]
  },
  {
   "cell_type": "code",
   "execution_count": 64,
   "metadata": {},
   "outputs": [
    {
     "name": "stdout",
     "output_type": "stream",
     "text": [
      "True\n",
      "False\n",
      "True\n",
      "False\n"
     ]
    }
   ],
   "source": [
    "print(df_all[ [feat for feat in  df_all.columns if feat.endswith('_log') ] ].isnull().any().any()) # NaN tylko w kolumnach z log\n",
    "print(df_all[ [feat for feat in  df_all.columns if not feat.endswith('_log') ] ].isnull().any().any()) # brak NaN w innych\n",
    "\n",
    "print(df_all.isnull().any().any())\n",
    "df_all.fillna(0, inplace=True)\n",
    "print(df_all.isnull().any().any())"
   ]
  },
  {
   "cell_type": "markdown",
   "metadata": {},
   "source": [
    "ewentualne czyszczenie pamięci ze zbędnych słowników"
   ]
  },
  {
   "cell_type": "code",
   "execution_count": null,
   "metadata": {},
   "outputs": [],
   "source": [
    "#del [obj for obj in list(globals().keys()) if (type(eval(obj)) == dict) & (not obj.startswith(\"_\"))][1:]\n",
    "gc.collect()"
   ]
  },
  {
   "cell_type": "code",
   "execution_count": 65,
   "metadata": {},
   "outputs": [
    {
     "data": {
      "text/plain": [
       "['age_idx',\n",
       " 'weight_idx',\n",
       " 'max_glu_serum_idx',\n",
       " 'A1Cresult_idx',\n",
       " 'sum_encounter_nr',\n",
       " 'diag_list',\n",
       " 'dgn_risk',\n",
       " 'dict_sum_diag_risk_by_patient',\n",
       " 'discharge_dict',\n",
       " 'discharge_risk',\n",
       " 'sum_discharge_risk',\n",
       " 'sum_number_outpatient',\n",
       " 'sum_number_emergency',\n",
       " 'sum_number_inpatient',\n",
       " 'sum_num_procedures',\n",
       " 'sum_num_lab_procedures',\n",
       " 'sum_time_in_hospital',\n",
       " 'drug_dict',\n",
       " 'drug_risk',\n",
       " 'sum_drug_risk']"
      ]
     },
     "execution_count": 65,
     "metadata": {},
     "output_type": "execute_result"
    }
   ],
   "source": [
    "[obj for obj in list(globals().keys()) if (type(eval(obj)) == dict) & (not obj.startswith(\"_\"))][1:]"
   ]
  },
  {
   "cell_type": "markdown",
   "metadata": {},
   "source": [
    "### uruchomienie modelu z parametrami i zestawem cech\n",
    "cv - przyjmuje walidację, plot=True rysuje krzywą uczenia, csv - nazwa pliku do wysyłki, \n",
    "cut - punkt odcięcia dla regresji ('0'/'100'), dla 0 regresja zwraca wartości >= 0 nie zaokrąglając do 100,\n",
    "plot nie działa dla regresji, granice dla rmsle określa linijka z [-1.5, -0.6], nie zwracamy uwagi na minus\n",
    "\n",
    "funkcja zwraca ilość '100' i '0' dla test i train, rmsle i wyszkolony model"
   ]
  },
  {
   "cell_type": "code",
   "execution_count": 66,
   "metadata": {},
   "outputs": [],
   "source": [
    "def run_model(feats, model, params, cv=None, plot=None, csv=None, cut=0):\n",
    "    \n",
    "    train = df_all[df_all.readmitted != '']\n",
    "    test = df_all[df_all.readmitted == '']\n",
    "\n",
    "    X = train[feats].values\n",
    "    y = (train['readmitted'].values).astype(np.float64)\n",
    "\n",
    "    model = model(**params)\n",
    "\n",
    "    if cv:   \n",
    "        scores = []\n",
    "        for train_idx, test_idx in cv.split(X, y):\n",
    "            X_fold_train, X_fold_test = X[train_idx], X[test_idx]\n",
    "            y_fold_train, y_fold_test = y[train_idx], y[test_idx]\n",
    "            model.fit(X_fold_train, y_fold_train)\n",
    "            y_pred = (model.predict(X_fold_test))\n",
    "            y_pred[ y_pred<0 ] = 0\n",
    "            score = rmsle(y_fold_test, y_pred)\n",
    "            scores.append( score )\n",
    "    else:\n",
    "        model.fit(X, y)\n",
    "        \n",
    "    X_test = test[feats].values\n",
    "    test['readmitted'] = model.predict(X_test)\n",
    "    y_pred = (model.predict(X)).astype(np.float64)\n",
    "    if cut == 0: \n",
    "        test['readmitted'] = test['readmitted'].map(lambda x: 0 if x < 0 else x)\n",
    "        y_pred[ y_pred <  0 ] = 0\n",
    "    else:\n",
    "        test['readmitted'] = test['readmitted'].map(lambda x: 0 if x < cut else 100)\n",
    "        y_pred[ y_pred <  cut ] = 0\n",
    "        y_pred[ y_pred >= cut ] = 100\n",
    "    score = rmsle(y, y_pred)\n",
    "    \n",
    "    if csv:\n",
    "        test[ ['id', 'readmitted'] ].to_csv(csv, index=False)\n",
    "    \n",
    "    if plot:\n",
    "        ax = plt.gca()\n",
    "        ax.set_ylim([-1.5, -0.6])\n",
    "        rmsle_score = make_scorer(rmsle, greater_is_better=False)\n",
    "        plot_learning_curve(model, X, y, random_state=2019, shuffle=True, n_jobs=8, scoring=rmsle_score, ax=ax);\n",
    "    \n",
    "    return(('test', test[test['readmitted']==100].shape[0], test[test['readmitted']==0].shape[0]),\n",
    "           ('train', train[train['readmitted']==100].shape[0], train[train['readmitted']==0].shape[0]),\n",
    "           ('score', score), model)"
   ]
  },
  {
   "cell_type": "markdown",
   "metadata": {},
   "source": [
    "### uruchamia kolejno dwa modele, pierwszy przekazuje drugiemu predykcję przez cechę 'model1_cat'"
   ]
  },
  {
   "cell_type": "code",
   "execution_count": 67,
   "metadata": {},
   "outputs": [],
   "source": [
    "def run_two_models(feats_1, model_1, params_1,\n",
    "                   feats_2, model_2, params_2,\n",
    "                   cv=None, plot=None, csv=None, cut=50):\n",
    "    \n",
    "    train = df_all[df_all.readmitted != '']\n",
    "    test = df_all[df_all.readmitted == '']\n",
    "\n",
    "    X = train[feats_1].values\n",
    "    y = (train['readmitted'].values).astype(np.float64)\n",
    "\n",
    "    model_1 = model_1(**params_1)\n",
    "\n",
    "    if cv:   \n",
    "        scores = []\n",
    "        for train_idx, test_idx in cv.split(X, y):\n",
    "            X_fold_train, X_fold_test = X[train_idx], X[test_idx]\n",
    "            y_fold_train, y_fold_test = y[train_idx], y[test_idx]\n",
    "            model_1.fit(X_fold_train, y_fold_train)\n",
    "            y_pred = (model_1.predict(X_fold_test))\n",
    "            y_pred[ y_pred<0 ] = 0\n",
    "            score = rmsle(y_fold_test, y_pred)\n",
    "            scores.append( score )\n",
    "    else:\n",
    "        model_1.fit(X, y)\n",
    "    \n",
    "    X_all = df_all[feats_1].values\n",
    "    df_all['model1_cat'] = model_1.predict(X_all)\n",
    "    df_all['model1_cat'] = df_all['model1_cat'].map(lambda x: 0 if x < cut else 100)\n",
    "    \n",
    "    train = df_all[df_all.readmitted != '']\n",
    "    test = df_all[df_all.readmitted == '']\n",
    "\n",
    "    X = train[feats_2].values\n",
    "    y = (train['readmitted'].values).astype(np.float64)\n",
    "    \n",
    "    model_2 = model_2(**params_2)\n",
    "\n",
    "    if cv:   \n",
    "        scores = []\n",
    "        for train_idx, test_idx in cv.split(X, y):\n",
    "            X_fold_train, X_fold_test = X[train_idx], X[test_idx]\n",
    "            y_fold_train, y_fold_test = y[train_idx], y[test_idx]\n",
    "            model_2.fit(X_fold_train, y_fold_train)\n",
    "            y_pred = (model_2.predict(X_fold_test))\n",
    "            y_pred[ y_pred<0 ] = 0\n",
    "            score = rmsle(y_fold_test, y_pred)\n",
    "            scores.append( score )\n",
    "    else:\n",
    "        model_2.fit(X, y)\n",
    "      \n",
    "    X_test = test[feats_2].values\n",
    "    test['readmitted'] = model_2.predict(X_test)\n",
    "    test['readmitted'] = test['readmitted'].map(lambda x: 0 if x < cut else 100)\n",
    "    y_pred = (model_2.predict(X)).astype(np.float64)\n",
    "    y_pred[ y_pred <  cut ] = 0\n",
    "    y_pred[ y_pred >= cut ] = 100\n",
    "    score = rmsle(y, y_pred), accuracy_score(y, y_pred)\n",
    "    if csv:\n",
    "        test[ ['id', 'readmitted'] ].to_csv(csv, index=False)\n",
    "    \n",
    "    if plot:\n",
    "        #ax = plt.gca()\n",
    "        #ax.set_ylim([-1.1, -0.6])\n",
    "        rmsle_score = make_scorer(rmsle, greater_is_better=False)\n",
    "        plot_learning_curve(model_2, X, y, random_state=2019, shuffle=True, n_jobs=8); # scoring=rmsle_score, ax=ax\n",
    "    \n",
    "    df_all['model1_cat'] = 0\n",
    "    \n",
    "    return(('test', test[test['readmitted']==100].shape[0], test[test['readmitted']==0].shape[0]),\n",
    "           ('train', train[train['readmitted']==100].shape[0], train[train['readmitted']==0].shape[0]),\n",
    "           ('score', score), model_2)"
   ]
  },
  {
   "cell_type": "markdown",
   "metadata": {},
   "source": [
    "### optymalizacja parametrów modelu"
   ]
  },
  {
   "cell_type": "code",
   "execution_count": 68,
   "metadata": {},
   "outputs": [],
   "source": [
    "def space_to_param(space):\n",
    "    int_param = ['max_depth', 'random_state', 'min_child_weight', 'n_estimators', 'n_jobs']\n",
    "    par = {}\n",
    "    cut = 50\n",
    "    cv  = None\n",
    "    model = None\n",
    "    feats = None\n",
    "    for x in space:\n",
    "        if x == 'cut':     cut    = int(space[x])\n",
    "        if x == 'cv':      cv     = space[x]\n",
    "        if x == 'model':   model  = space[x]\n",
    "        if x == 'feats':   feats  = list(space[x])    \n",
    "        if x in int_param: par[x] = int(space[x])\n",
    "        else:              par[x] = space[x]            \n",
    "    return (par, cut, cv, model, feats)\n",
    "\n",
    "def param_opt(space):\n",
    "    params = space_to_param(space)\n",
    "    with_params = {\n",
    "        'feats' : params[4],\n",
    "        'model' : params[3],\n",
    "        'params': params[0],\n",
    "        'cv'    : params[2],\n",
    "        'plot'  : None,\n",
    "        'csv'   : None,\n",
    "        'cut'   : params[1]\n",
    "    }\n",
    "    result = run_model(**with_params)\n",
    "    return{'loss':result[2][1], 'status': STATUS_OK }"
   ]
  },
  {
   "cell_type": "markdown",
   "metadata": {},
   "source": [
    "### permutation importance"
   ]
  },
  {
   "cell_type": "code",
   "execution_count": 69,
   "metadata": {},
   "outputs": [],
   "source": [
    "def perm_model(feats, model, params, cv=None, plot=None, csv=None, cut=50):\n",
    "    \n",
    "    train = df_all[df_all.readmitted != '']\n",
    "    test = df_all[df_all.readmitted == '']\n",
    "    \n",
    "    train = train.fillna(-1)\n",
    "\n",
    "    X = train[feats].values\n",
    "    y = (train['readmitted'].values).astype(np.float64)\n",
    "\n",
    "    model = model(**params)\n",
    "    \n",
    "    X_sub_train, X_sub_test, y_sub_train, y_sub_test = train_test_split(X, y, shuffle=True, random_state=0)\n",
    "\n",
    "    if cv:   \n",
    "        scores = []\n",
    "        for train_idx, test_idx in cv.split(X_sub_train, y_sub_train):\n",
    "            X_fold_train, X_fold_test = X_sub_train[train_idx], X_sub_train[test_idx]\n",
    "            y_fold_train, y_fold_test = y_sub_train[train_idx], y_sub_train[test_idx]\n",
    "            model.fit(X_fold_train, y_fold_train)\n",
    "            y_pred = (model.predict(X_fold_test))\n",
    "            y_pred[ y_pred<0 ] = 0\n",
    "            score = rmsle(y_fold_test, y_pred)\n",
    "            scores.append( score )\n",
    "    else:\n",
    "        model.fit(X_sub_train, y_sub_train)\n",
    "        \n",
    "    perm = PermutationImportance(model).fit(X_sub_test, y_sub_test)\n",
    "    return perm"
   ]
  },
  {
   "cell_type": "markdown",
   "metadata": {},
   "source": [
    "# Feature Selection"
   ]
  },
  {
   "cell_type": "markdown",
   "metadata": {},
   "source": [
    "Tu miałem największy problem. Zawsze najlepszy wynik dawało uwzględnienie wszystkich cech jakie na danym etapie miałem, z niemal podstawowymi ustawieniami modelu.\n",
    "\n",
    "Poczatkowo lepsza była klasyfikacja, później regresja. W tej ostatniej ważniejszy był punkt odcięcia niż rmsle i accuracy na zbiorze treningowym.\n",
    "\n",
    "Optymalizacja parametrów zawsze dawała gorsze efekty (overfit)."
   ]
  },
  {
   "cell_type": "markdown",
   "metadata": {},
   "source": [
    "### grupy cech"
   ]
  },
  {
   "cell_type": "code",
   "execution_count": 70,
   "metadata": {},
   "outputs": [],
   "source": [
    "black_list_feats = ['id', 'encounter_id', 'readmitted', 'train_test_cat']\n",
    "\n",
    "all_feats = df_all.select_dtypes(include=[np.number, bool]).columns.values\n",
    "all_feats = [feat for feat in all_feats if feat not in (black_list_feats)]\n",
    "\n",
    "used_drug_feats = ['metformin', 'repaglinide', 'nateglinide', 'chlorpropamide', 'glimepiride', 'acetohexamide', 'glipizide', \n",
    "               'glyburide', 'tolbutamide', 'pioglitazone', 'rosiglitazone', 'acarbose', 'miglitol', 'troglitazone', \n",
    "               'tolazamide', 'examide', 'citoglipton', 'insulin', 'glyburide-metformin', 'glipizide-metformin', \n",
    "               'glimepiride-pioglitazone', 'metformin-rosiglitazone', 'metformin-pioglitazone']\n",
    "\n",
    "cat_feats = [feat for feat in  all_feats if feat.endswith('_cat') ]\\\n",
    "          + [feat for feat in  all_feats if feat.endswith('_id') ]\\\n",
    "          + used_drug_feats + ['patient_nbr', 'change', 'diabetesMed', 'id']\n",
    "\n",
    "multi_cat_feats = ['race_cat', 'payer_code_cat', 'medical_specialty_cat', 'diag_1_cat', 'diag_2_cat', 'diag_3_cat', \n",
    "                   'age_cat', 'weight_cat', 'max_glu_serum_cat', 'A1Cresult_cat', 'admission_type_id', \n",
    "                   'discharge_disposition_id', 'admission_source_id', 'patient_nbr', 'id', 'encounter_id']\n",
    "\n",
    "binary_cat_feats = [feat for feat in cat_feats if feat not in (multi_cat_feats + used_drug_feats)]\n",
    "\n",
    "continuous_feats = [feat for feat in all_feats if feat not in cat_feats]\n",
    "\n",
    "log_feats = [feat for feat in  all_feats if feat.endswith('_log') ]\n",
    "\n",
    "good_log_feats = ['diag_risk_max_log', 'diag_risk_sum_log', 'total_diag_risk_log', 'sum_num_lab_procedures_log', \n",
    "                  'num_lab_procedures_log', 'num_medications_log', 'sum_num_medications_log', \n",
    "                  'total_drug_risk_log', 'sum_time_in_hospital_log', 'time_in_hospital_log', 'sum_number_diagnoses_log']\n",
    "\n",
    "sum_feats = [feat for feat in  all_feats if feat.startswith('sum_') ]\\\n",
    "          + [feat for feat in  all_feats if feat.startswith('total_') ] + ['encounter_nr']\n",
    "\n",
    "risk_feats = [feat for feat in  all_feats if ~feat.find('risk') ]\n",
    "risk_feats.remove('diag_high_risk_80_cat')\n",
    "\n",
    "drug_feats = [feat for feat in  all_feats if ~feat.find('drug') ]\n",
    "\n",
    "diag_feats = [feat for feat in  all_feats if ~feat.find('diag') ]"
   ]
  },
  {
   "cell_type": "code",
   "execution_count": null,
   "metadata": {},
   "outputs": [],
   "source": [
    "df_all.select_dtypes(include=[np.number, bool]).columns.values\n",
    "[feat for feat in  df_all.columns if feat.endswith('_cat') ]\n",
    "[feat for feat in  df_all.columns if feat.startswith('sum_') ]\n",
    "[feat for feat in  df_all.columns if feat.endswith('_log') ]\n",
    "[feat for feat in  df_all.columns if feat.endswith('_cat') ]\n",
    "[feat for feat in  df_all.columns if ~feat.find('diag') ]\n",
    "[feat for feat in  df_all.columns if ~feat.find('drug') ]\n",
    "[feat for feat in  df_all.columns if ~feat.find('sum') ]\n",
    "[feat for feat in  df_all.columns if feat.startswith('total_') ]"
   ]
  },
  {
   "cell_type": "markdown",
   "metadata": {},
   "source": [
    "przykładowe wyniki klasyfikacji dla różnych grup cech"
   ]
  },
  {
   "cell_type": "markdown",
   "metadata": {},
   "source": [
    "all clas skfold colsample\n",
    "(('test', 4037, 29133), ('train', 5721, 27330), ('score', (1.1874474609521182, 0.9337992799007594)))\n",
    "all clas skfold\n",
    "(('test', 4073, 29097), ('train', 5721, 27330), ('score', (1.185002753532511, 0.9340715863362682)))\n",
    "best_clas_skfold clas skfold\n",
    "(('test', 4052, 29118), ('train', 5721, 27330), ('score', (1.1904286186895825, 0.9334664609240265)))\n",
    "best_clas_skfold clas skfold colsample\n",
    "(('test', 3992, 29178), ('train', 5721, 27330), ('score', (1.191240366904396, 0.9333756921121903)))\n",
    "log_feats clas skfold\n",
    "(('test', 3936, 29234), ('train', 5721, 27330), ('score', (1.1998648441584605, 0.9324074914526036)))\n",
    "log_feats clas skfold colsample\n",
    "(('test', 3919, 29251), ('train', 5721, 27330), ('score', (1.2038862994419666, 0.9319536473934222)))\n",
    "continuous_feats clas skfold\n",
    "(('test', 3984, 29186), ('train', 5721, 27330), ('score', (1.2049564208083143, 0.931832622310974)))\n",
    "continuous_feats clas skfold colsample\n",
    "(('test', 4001, 29169), ('train', 5721, 27330), ('score', (1.2014750414977722, 0.932225953828931)))\n",
    "eli5_best_clas\n",
    "(('test', 4098, 29072), ('train', 5721, 27330), ('score', 1.2062927375335026))"
   ]
  },
  {
   "cell_type": "markdown",
   "metadata": {},
   "source": [
    "pracowałem na własnym komputerze w jupyter - dla mnie była to bardziej stabilna wersja\n",
    "\n",
    "dlatego wszędzie w parametrach jest 'n_jobs': 8"
   ]
  },
  {
   "cell_type": "markdown",
   "metadata": {},
   "source": [
    "### kolejne dodawanie najlepszej cechy ze wszystkich zadanych"
   ]
  },
  {
   "cell_type": "code",
   "execution_count": 71,
   "metadata": {},
   "outputs": [
    {
     "name": "stderr",
     "output_type": "stream",
     "text": [
      "100%|████████████████████████████████████████████████████████████████████████████████| 121/121 [02:17<00:00,  1.14s/it]\n"
     ]
    },
    {
     "name": "stdout",
     "output_type": "stream",
     "text": [
      "total_diag_risk_log 2.1580966137641444\n"
     ]
    },
    {
     "name": "stderr",
     "output_type": "stream",
     "text": [
      "100%|████████████████████████████████████████████████████████████████████████████████| 121/121 [03:54<00:00,  1.98s/it]\n"
     ]
    },
    {
     "name": "stdout",
     "output_type": "stream",
     "text": [
      "number_inpatient 2.088092848496852\n"
     ]
    },
    {
     "name": "stderr",
     "output_type": "stream",
     "text": [
      "100%|████████████████████████████████████████████████████████████████████████████████| 121/121 [04:07<00:00,  2.09s/it]\n"
     ]
    },
    {
     "name": "stdout",
     "output_type": "stream",
     "text": [
      "sum_number_inpatient 1.9538224944036235\n"
     ]
    },
    {
     "name": "stderr",
     "output_type": "stream",
     "text": [
      "100%|████████████████████████████████████████████████████████████████████████████████| 121/121 [04:00<00:00,  2.00s/it]\n"
     ]
    },
    {
     "name": "stdout",
     "output_type": "stream",
     "text": [
      "sum_discharge_risk 1.9162263329909643\n"
     ]
    },
    {
     "name": "stderr",
     "output_type": "stream",
     "text": [
      "100%|████████████████████████████████████████████████████████████████████████████████| 121/121 [04:13<00:00,  2.14s/it]\n"
     ]
    },
    {
     "name": "stdout",
     "output_type": "stream",
     "text": [
      "payer_code_cat 1.8782406947609276\n"
     ]
    }
   ],
   "source": [
    "# features search by adding\n",
    "\n",
    "added_feats = all_feats\n",
    "\n",
    "with_params = {\n",
    "    'feats' : [],\n",
    "    'model' : xgb.XGBRegressor,\n",
    "    'params': {'n_jobs': 8,\n",
    "               'random_state': 2019,\n",
    "               'objective': 'reg:squarederror',\n",
    "               'max_depth': 5,\n",
    "               'subsample': 0.95},\n",
    "    'cv'    : StratifiedKFold(n_splits=4, random_state=2019),\n",
    "    'plot'  : None,\n",
    "    'csv'   : None,\n",
    "    'cut'   : 50\n",
    "}\n",
    "\n",
    "best = 100;\n",
    "best_feat = ''\n",
    "\n",
    "exclude = []\n",
    "\n",
    "for x in range(0,1):\n",
    "    for feat in tqdm(added_feats):\n",
    "        if feat in exclude: continue\n",
    "        if feat not in with_params['feats']:\n",
    "            with_params['feats'].append(feat)\n",
    "            result = run_model(**with_params)\n",
    "            if result[2][1] < best:\n",
    "                best = result[2][1]\n",
    "                best_feat = feat\n",
    "            with_params['feats'].remove(feat)\n",
    "    if best_feat != '':\n",
    "        print(best_feat, best)\n",
    "        with_params['feats'].append(best_feat)\n",
    "        best_feat = ''\n",
    "    else:\n",
    "        break\n"
   ]
  },
  {
   "cell_type": "code",
   "execution_count": 72,
   "metadata": {},
   "outputs": [
    {
     "name": "stderr",
     "output_type": "stream",
     "text": [
      "100%|██████████████████████████████████████████████████████████████████████████████████| 32/32 [00:49<00:00,  1.34s/it]\n"
     ]
    },
    {
     "name": "stdout",
     "output_type": "stream",
     "text": [
      "sum_discharge_risk_log 1.6322097978584305\n"
     ]
    }
   ],
   "source": [
    "# features search by adding\n",
    "\n",
    "added_feats = log_feats\n",
    "\n",
    "with_params = {\n",
    "    'feats' : [],\n",
    "    'model' : xgb.XGBClassifier,\n",
    "    'params': {'n_jobs': 8,\n",
    "               'random_state': 2019,\n",
    "               'max_depth': 5,\n",
    "               'subsample': 0.95,\n",
    "},\n",
    "    'cv'    : StratifiedKFold(n_splits=4, random_state=2019),\n",
    "    'plot'  : None,\n",
    "    'csv'   : None,\n",
    "    'cut'   : 50\n",
    "}\n",
    "\n",
    "best = 100;\n",
    "best_feat = ''\n",
    "\n",
    "exclude = []\n",
    "\n",
    "for x in range(0,1):\n",
    "    for feat in tqdm(added_feats):\n",
    "        if feat in exclude: continue\n",
    "        if feat not in with_params['feats']:\n",
    "            with_params['feats'].append(feat)\n",
    "            result = run_model(**with_params)\n",
    "            if result[2][1] < best:\n",
    "                best = result[2][1]\n",
    "                best_feat = feat\n",
    "            with_params['feats'].remove(feat)\n",
    "    if best_feat != '':\n",
    "        print(best_feat, best)\n",
    "        with_params['feats'].append(best_feat)\n",
    "        best_feat = ''\n",
    "    else:\n",
    "        break\n"
   ]
  },
  {
   "cell_type": "markdown",
   "metadata": {},
   "source": [
    "### kasowanie najgorszej i najlepszej cechy z modelu"
   ]
  },
  {
   "cell_type": "code",
   "execution_count": 74,
   "metadata": {},
   "outputs": [
    {
     "name": "stderr",
     "output_type": "stream",
     "text": [
      "100%|██████████████████████████████████████████████████████████████████████████████████| 17/17 [00:45<00:00,  2.81s/it]\n"
     ]
    },
    {
     "name": "stdout",
     "output_type": "stream",
     "text": [
      "['drug_change_cat'] [1.9130515756512216] ['diag_high_risk_80_cat'] [1.9192734448705837]\n",
      "worst ['drug_change_cat']\n",
      "best ['diag_high_risk_80_cat']\n"
     ]
    }
   ],
   "source": [
    "# liczy się długo\n",
    "\n",
    "# features search by deleting\n",
    "with_params = {\n",
    "    'feats' : binary_cat_feats,\n",
    "    'model' : xgb.XGBClassifier,\n",
    "    'params': {'n_jobs': 8,\n",
    "               'random_state': 2019,\n",
    "               'objective': 'reg:squarederror',\n",
    "               'max_depth': 5,\n",
    "               'subsample': 0.95},\n",
    "\n",
    "    'cv'    : StratifiedKFold(n_splits=4, random_state=2019),\n",
    "    'plot'  : None,\n",
    "    'csv'   : None,\n",
    "    'cut'   : 47\n",
    "}\n",
    "\n",
    "worst = 0\n",
    "worst_feat = ''\n",
    "best = 100\n",
    "best_feat = ''\n",
    "\n",
    "worst_list = []\n",
    "best_list = []\n",
    "\n",
    "for x in range(0,1): # 50\n",
    "    for feat in tqdm(with_params['feats']):\n",
    "        with_params['feats'].remove(feat)\n",
    "        result = run_model(**with_params)\n",
    "        if result[2][1] < best:\n",
    "            best = result[2][1]\n",
    "            worst_feat = feat            \n",
    "        with_params['feats'].append(feat)\n",
    "        if result[2][1] > worst:\n",
    "            worst = result[2][1]\n",
    "            best_feat = feat\n",
    "    \n",
    "    print([worst_feat], [best], [best_feat], [worst])\n",
    "    worst_list.append(worst_feat)\n",
    "    best_list.append(best_feat)\n",
    "    if worst_feat in with_params['feats']: with_params['feats'].remove(worst_feat)\n",
    "    if best_feat in with_params['feats']: with_params['feats'].remove(best_feat)\n",
    "    worst = 0\n",
    "    worst_feat = ''\n",
    "    best = 100\n",
    "    best_feat = ''\n",
    "    \n",
    "print('worst', worst_list)\n",
    "print('best', best_list)"
   ]
  },
  {
   "cell_type": "code",
   "execution_count": 76,
   "metadata": {},
   "outputs": [
    {
     "name": "stderr",
     "output_type": "stream",
     "text": [
      "                                                                                                                       \r"
     ]
    },
    {
     "name": "stdout",
     "output_type": "stream",
     "text": [
      "['diag_1_cat'] [1.8783771915893168] ['discharge_disposition_id'] [1.9039345186349308]\n",
      "worst ['diag_1_cat']\n",
      "best ['discharge_disposition_id']\n"
     ]
    }
   ],
   "source": [
    "# liczy się długo\n",
    "\n",
    "with_params = {\n",
    "    'feats' : multi_cat_feats,\n",
    "    'model' : xgb.XGBRegressor,\n",
    "    'params': {'n_jobs': 8,\n",
    "               'random_state': 2019,\n",
    "               'objective': 'reg:squarederror',\n",
    "               'max_depth': 5,\n",
    "               'subsample': 0.95},\n",
    "    'cv'    : StratifiedKFold(n_splits=4, random_state=2019),\n",
    "    'plot'  : None,\n",
    "    'csv'   : None,\n",
    "    'cut'   : 47\n",
    "}\n",
    "\n",
    "worst = 0\n",
    "worst_feat = ''\n",
    "best = 100\n",
    "best_feat = ''\n",
    "\n",
    "worst_list = []\n",
    "best_list = []\n",
    "\n",
    "for x in range(0,1): # 50\n",
    "    for feat in tqdm(with_params['feats'], leave=False):\n",
    "        with_params['feats'].remove(feat)\n",
    "        result = run_model(**with_params)\n",
    "        if result[2][1] < best:\n",
    "            best = result[2][1]\n",
    "            worst_feat = feat            \n",
    "        with_params['feats'].append(feat)\n",
    "        if result[2][1] > worst:\n",
    "            worst = result[2][1]\n",
    "            best_feat = feat\n",
    "    \n",
    "    print([worst_feat], [best], [best_feat], [worst])\n",
    "    worst_list.append(worst_feat)\n",
    "    best_list.append(best_feat)\n",
    "    if worst_feat in with_params['feats']: with_params['feats'].remove(worst_feat)\n",
    "    if best_feat in with_params['feats']: with_params['feats'].remove(best_feat)\n",
    "    worst = 0\n",
    "    worst_feat = ''\n",
    "    best = 100\n",
    "    best_feat = ''\n",
    "    \n",
    "print('worst', worst_list)\n",
    "print('best', best_list)"
   ]
  },
  {
   "cell_type": "markdown",
   "metadata": {},
   "source": [
    "### szukanie najlepszych cech przez eli5 - oddzielnie dla każdej grupy cech"
   ]
  },
  {
   "cell_type": "code",
   "execution_count": 77,
   "metadata": {},
   "outputs": [
    {
     "data": {
      "text/html": [
       "\n",
       "    <style>\n",
       "    table.eli5-weights tr:hover {\n",
       "        filter: brightness(85%);\n",
       "    }\n",
       "</style>\n",
       "\n",
       "\n",
       "\n",
       "    \n",
       "\n",
       "    \n",
       "\n",
       "    \n",
       "\n",
       "    \n",
       "\n",
       "    \n",
       "\n",
       "    \n",
       "\n",
       "\n",
       "    \n",
       "\n",
       "    \n",
       "\n",
       "    \n",
       "\n",
       "    \n",
       "\n",
       "    \n",
       "\n",
       "    \n",
       "\n",
       "\n",
       "    \n",
       "\n",
       "    \n",
       "\n",
       "    \n",
       "\n",
       "    \n",
       "\n",
       "    \n",
       "        <table class=\"eli5-weights eli5-feature-importances\" style=\"border-collapse: collapse; border: none; margin-top: 0em; table-layout: auto;\">\n",
       "    <thead>\n",
       "    <tr style=\"border: none;\">\n",
       "        <th style=\"padding: 0 1em 0 0.5em; text-align: right; border: none;\">Weight</th>\n",
       "        <th style=\"padding: 0 0.5em 0 0.5em; text-align: left; border: none;\">Feature</th>\n",
       "    </tr>\n",
       "    </thead>\n",
       "    <tbody>\n",
       "    \n",
       "        <tr style=\"background-color: hsl(120, 100.00%, 80.00%); border: none;\">\n",
       "            <td style=\"padding: 0 1em 0 0.5em; text-align: right; border: none;\">\n",
       "                0.3791\n",
       "                \n",
       "                    &plusmn; 0.0095\n",
       "                \n",
       "            </td>\n",
       "            <td style=\"padding: 0 0.5em 0 0.5em; text-align: left; border: none;\">\n",
       "                encounter_nr\n",
       "            </td>\n",
       "        </tr>\n",
       "    \n",
       "        <tr style=\"background-color: hsl(120, 100.00%, 83.13%); border: none;\">\n",
       "            <td style=\"padding: 0 1em 0 0.5em; text-align: right; border: none;\">\n",
       "                0.2972\n",
       "                \n",
       "                    &plusmn; 0.0133\n",
       "                \n",
       "            </td>\n",
       "            <td style=\"padding: 0 0.5em 0 0.5em; text-align: left; border: none;\">\n",
       "                number_inpatient\n",
       "            </td>\n",
       "        </tr>\n",
       "    \n",
       "        <tr style=\"background-color: hsl(120, 100.00%, 87.67%); border: none;\">\n",
       "            <td style=\"padding: 0 1em 0 0.5em; text-align: right; border: none;\">\n",
       "                0.1900\n",
       "                \n",
       "                    &plusmn; 0.0097\n",
       "                \n",
       "            </td>\n",
       "            <td style=\"padding: 0 0.5em 0 0.5em; text-align: left; border: none;\">\n",
       "                sum_number_inpatient\n",
       "            </td>\n",
       "        </tr>\n",
       "    \n",
       "        <tr style=\"background-color: hsl(120, 100.00%, 96.31%); border: none;\">\n",
       "            <td style=\"padding: 0 1em 0 0.5em; text-align: right; border: none;\">\n",
       "                0.0339\n",
       "                \n",
       "                    &plusmn; 0.0040\n",
       "                \n",
       "            </td>\n",
       "            <td style=\"padding: 0 0.5em 0 0.5em; text-align: left; border: none;\">\n",
       "                sum_intervention_nr\n",
       "            </td>\n",
       "        </tr>\n",
       "    \n",
       "        <tr style=\"background-color: hsl(120, 100.00%, 96.93%); border: none;\">\n",
       "            <td style=\"padding: 0 1em 0 0.5em; text-align: right; border: none;\">\n",
       "                0.0261\n",
       "                \n",
       "                    &plusmn; 0.0039\n",
       "                \n",
       "            </td>\n",
       "            <td style=\"padding: 0 0.5em 0 0.5em; text-align: left; border: none;\">\n",
       "                discharge_risk\n",
       "            </td>\n",
       "        </tr>\n",
       "    \n",
       "        <tr style=\"background-color: hsl(120, 100.00%, 97.20%); border: none;\">\n",
       "            <td style=\"padding: 0 1em 0 0.5em; text-align: right; border: none;\">\n",
       "                0.0229\n",
       "                \n",
       "                    &plusmn; 0.0016\n",
       "                \n",
       "            </td>\n",
       "            <td style=\"padding: 0 0.5em 0 0.5em; text-align: left; border: none;\">\n",
       "                sum_emerg_nr\n",
       "            </td>\n",
       "        </tr>\n",
       "    \n",
       "        <tr style=\"background-color: hsl(120, 100.00%, 97.51%); border: none;\">\n",
       "            <td style=\"padding: 0 1em 0 0.5em; text-align: right; border: none;\">\n",
       "                0.0193\n",
       "                \n",
       "                    &plusmn; 0.0013\n",
       "                \n",
       "            </td>\n",
       "            <td style=\"padding: 0 0.5em 0 0.5em; text-align: left; border: none;\">\n",
       "                total_diag_risk\n",
       "            </td>\n",
       "        </tr>\n",
       "    \n",
       "        <tr style=\"background-color: hsl(120, 100.00%, 98.17%); border: none;\">\n",
       "            <td style=\"padding: 0 1em 0 0.5em; text-align: right; border: none;\">\n",
       "                0.0125\n",
       "                \n",
       "                    &plusmn; 0.0016\n",
       "                \n",
       "            </td>\n",
       "            <td style=\"padding: 0 0.5em 0 0.5em; text-align: left; border: none;\">\n",
       "                intervention_nr\n",
       "            </td>\n",
       "        </tr>\n",
       "    \n",
       "        <tr style=\"background-color: hsl(120, 100.00%, 98.34%); border: none;\">\n",
       "            <td style=\"padding: 0 1em 0 0.5em; text-align: right; border: none;\">\n",
       "                0.0109\n",
       "                \n",
       "                    &plusmn; 0.0021\n",
       "                \n",
       "            </td>\n",
       "            <td style=\"padding: 0 0.5em 0 0.5em; text-align: left; border: none;\">\n",
       "                emerg_nr\n",
       "            </td>\n",
       "        </tr>\n",
       "    \n",
       "        <tr style=\"background-color: hsl(120, 100.00%, 98.35%); border: none;\">\n",
       "            <td style=\"padding: 0 1em 0 0.5em; text-align: right; border: none;\">\n",
       "                0.0107\n",
       "                \n",
       "                    &plusmn; 0.0041\n",
       "                \n",
       "            </td>\n",
       "            <td style=\"padding: 0 0.5em 0 0.5em; text-align: left; border: none;\">\n",
       "                diag_risk_sum\n",
       "            </td>\n",
       "        </tr>\n",
       "    \n",
       "        <tr style=\"background-color: hsl(120, 100.00%, 98.51%); border: none;\">\n",
       "            <td style=\"padding: 0 1em 0 0.5em; text-align: right; border: none;\">\n",
       "                0.0093\n",
       "                \n",
       "                    &plusmn; 0.0016\n",
       "                \n",
       "            </td>\n",
       "            <td style=\"padding: 0 0.5em 0 0.5em; text-align: left; border: none;\">\n",
       "                sum_discharge_risk\n",
       "            </td>\n",
       "        </tr>\n",
       "    \n",
       "        <tr style=\"background-color: hsl(120, 100.00%, 99.00%); border: none;\">\n",
       "            <td style=\"padding: 0 1em 0 0.5em; text-align: right; border: none;\">\n",
       "                0.0053\n",
       "                \n",
       "                    &plusmn; 0.0018\n",
       "                \n",
       "            </td>\n",
       "            <td style=\"padding: 0 0.5em 0 0.5em; text-align: left; border: none;\">\n",
       "                sum_num_lab_procedures\n",
       "            </td>\n",
       "        </tr>\n",
       "    \n",
       "        <tr style=\"background-color: hsl(120, 100.00%, 99.13%); border: none;\">\n",
       "            <td style=\"padding: 0 1em 0 0.5em; text-align: right; border: none;\">\n",
       "                0.0043\n",
       "                \n",
       "                    &plusmn; 0.0027\n",
       "                \n",
       "            </td>\n",
       "            <td style=\"padding: 0 0.5em 0 0.5em; text-align: left; border: none;\">\n",
       "                sum_time_in_hospital\n",
       "            </td>\n",
       "        </tr>\n",
       "    \n",
       "        <tr style=\"background-color: hsl(120, 100.00%, 99.18%); border: none;\">\n",
       "            <td style=\"padding: 0 1em 0 0.5em; text-align: right; border: none;\">\n",
       "                0.0040\n",
       "                \n",
       "                    &plusmn; 0.0014\n",
       "                \n",
       "            </td>\n",
       "            <td style=\"padding: 0 0.5em 0 0.5em; text-align: left; border: none;\">\n",
       "                total_drug_risk\n",
       "            </td>\n",
       "        </tr>\n",
       "    \n",
       "        <tr style=\"background-color: hsl(120, 100.00%, 99.30%); border: none;\">\n",
       "            <td style=\"padding: 0 1em 0 0.5em; text-align: right; border: none;\">\n",
       "                0.0032\n",
       "                \n",
       "                    &plusmn; 0.0006\n",
       "                \n",
       "            </td>\n",
       "            <td style=\"padding: 0 0.5em 0 0.5em; text-align: left; border: none;\">\n",
       "                sum_number_diagnoses\n",
       "            </td>\n",
       "        </tr>\n",
       "    \n",
       "        <tr style=\"background-color: hsl(120, 100.00%, 99.35%); border: none;\">\n",
       "            <td style=\"padding: 0 1em 0 0.5em; text-align: right; border: none;\">\n",
       "                0.0028\n",
       "                \n",
       "                    &plusmn; 0.0016\n",
       "                \n",
       "            </td>\n",
       "            <td style=\"padding: 0 0.5em 0 0.5em; text-align: left; border: none;\">\n",
       "                num_lab_procedures\n",
       "            </td>\n",
       "        </tr>\n",
       "    \n",
       "        <tr style=\"background-color: hsl(120, 100.00%, 99.55%); border: none;\">\n",
       "            <td style=\"padding: 0 1em 0 0.5em; text-align: right; border: none;\">\n",
       "                0.0017\n",
       "                \n",
       "                    &plusmn; 0.0005\n",
       "                \n",
       "            </td>\n",
       "            <td style=\"padding: 0 0.5em 0 0.5em; text-align: left; border: none;\">\n",
       "                sum_num_medications\n",
       "            </td>\n",
       "        </tr>\n",
       "    \n",
       "        <tr style=\"background-color: hsl(120, 100.00%, 99.57%); border: none;\">\n",
       "            <td style=\"padding: 0 1em 0 0.5em; text-align: right; border: none;\">\n",
       "                0.0016\n",
       "                \n",
       "                    &plusmn; 0.0028\n",
       "                \n",
       "            </td>\n",
       "            <td style=\"padding: 0 0.5em 0 0.5em; text-align: left; border: none;\">\n",
       "                number_diagnoses\n",
       "            </td>\n",
       "        </tr>\n",
       "    \n",
       "        <tr style=\"background-color: hsl(120, 100.00%, 99.68%); border: none;\">\n",
       "            <td style=\"padding: 0 1em 0 0.5em; text-align: right; border: none;\">\n",
       "                0.0010\n",
       "                \n",
       "                    &plusmn; 0.0018\n",
       "                \n",
       "            </td>\n",
       "            <td style=\"padding: 0 0.5em 0 0.5em; text-align: left; border: none;\">\n",
       "                diag_risk_max\n",
       "            </td>\n",
       "        </tr>\n",
       "    \n",
       "        <tr style=\"background-color: hsl(120, 100.00%, 99.71%); border: none;\">\n",
       "            <td style=\"padding: 0 1em 0 0.5em; text-align: right; border: none;\">\n",
       "                0.0009\n",
       "                \n",
       "                    &plusmn; 0.0013\n",
       "                \n",
       "            </td>\n",
       "            <td style=\"padding: 0 0.5em 0 0.5em; text-align: left; border: none;\">\n",
       "                num_medications\n",
       "            </td>\n",
       "        </tr>\n",
       "    \n",
       "        <tr style=\"background-color: hsl(120, 100.00%, 99.79%); border: none;\">\n",
       "            <td style=\"padding: 0 1em 0 0.5em; text-align: right; border: none;\">\n",
       "                0.0006\n",
       "                \n",
       "                    &plusmn; 0.0005\n",
       "                \n",
       "            </td>\n",
       "            <td style=\"padding: 0 0.5em 0 0.5em; text-align: left; border: none;\">\n",
       "                time_in_hospital\n",
       "            </td>\n",
       "        </tr>\n",
       "    \n",
       "        <tr style=\"background-color: hsl(120, 100.00%, 99.79%); border: none;\">\n",
       "            <td style=\"padding: 0 1em 0 0.5em; text-align: right; border: none;\">\n",
       "                0.0006\n",
       "                \n",
       "                    &plusmn; 0.0016\n",
       "                \n",
       "            </td>\n",
       "            <td style=\"padding: 0 0.5em 0 0.5em; text-align: left; border: none;\">\n",
       "                sum_drug_risk\n",
       "            </td>\n",
       "        </tr>\n",
       "    \n",
       "        <tr style=\"background-color: hsl(120, 100.00%, 99.85%); border: none;\">\n",
       "            <td style=\"padding: 0 1em 0 0.5em; text-align: right; border: none;\">\n",
       "                0.0003\n",
       "                \n",
       "                    &plusmn; 0.0011\n",
       "                \n",
       "            </td>\n",
       "            <td style=\"padding: 0 0.5em 0 0.5em; text-align: left; border: none;\">\n",
       "                sum_number_outpatient\n",
       "            </td>\n",
       "        </tr>\n",
       "    \n",
       "        <tr style=\"background-color: hsl(120, 100.00%, 99.89%); border: none;\">\n",
       "            <td style=\"padding: 0 1em 0 0.5em; text-align: right; border: none;\">\n",
       "                0.0002\n",
       "                \n",
       "                    &plusmn; 0.0002\n",
       "                \n",
       "            </td>\n",
       "            <td style=\"padding: 0 0.5em 0 0.5em; text-align: left; border: none;\">\n",
       "                sum_ambulatory_nr\n",
       "            </td>\n",
       "        </tr>\n",
       "    \n",
       "        <tr style=\"background-color: hsl(120, 100.00%, 99.91%); border: none;\">\n",
       "            <td style=\"padding: 0 1em 0 0.5em; text-align: right; border: none;\">\n",
       "                0.0002\n",
       "                \n",
       "                    &plusmn; 0.0003\n",
       "                \n",
       "            </td>\n",
       "            <td style=\"padding: 0 0.5em 0 0.5em; text-align: left; border: none;\">\n",
       "                num_procedures\n",
       "            </td>\n",
       "        </tr>\n",
       "    \n",
       "        <tr style=\"background-color: hsl(120, 100.00%, 99.97%); border: none;\">\n",
       "            <td style=\"padding: 0 1em 0 0.5em; text-align: right; border: none;\">\n",
       "                0.0000\n",
       "                \n",
       "                    &plusmn; 0.0001\n",
       "                \n",
       "            </td>\n",
       "            <td style=\"padding: 0 0.5em 0 0.5em; text-align: left; border: none;\">\n",
       "                sum_number_emergency\n",
       "            </td>\n",
       "        </tr>\n",
       "    \n",
       "        <tr style=\"background-color: hsl(0, 100.00%, 100.00%); border: none;\">\n",
       "            <td style=\"padding: 0 1em 0 0.5em; text-align: right; border: none;\">\n",
       "                0\n",
       "                \n",
       "                    &plusmn; 0.0000\n",
       "                \n",
       "            </td>\n",
       "            <td style=\"padding: 0 0.5em 0 0.5em; text-align: left; border: none;\">\n",
       "                total_diag_risk_log\n",
       "            </td>\n",
       "        </tr>\n",
       "    \n",
       "        <tr style=\"background-color: hsl(0, 100.00%, 100.00%); border: none;\">\n",
       "            <td style=\"padding: 0 1em 0 0.5em; text-align: right; border: none;\">\n",
       "                0\n",
       "                \n",
       "                    &plusmn; 0.0000\n",
       "                \n",
       "            </td>\n",
       "            <td style=\"padding: 0 0.5em 0 0.5em; text-align: left; border: none;\">\n",
       "                diag_risk_sum_log\n",
       "            </td>\n",
       "        </tr>\n",
       "    \n",
       "        <tr style=\"background-color: hsl(0, 100.00%, 100.00%); border: none;\">\n",
       "            <td style=\"padding: 0 1em 0 0.5em; text-align: right; border: none;\">\n",
       "                0\n",
       "                \n",
       "                    &plusmn; 0.0000\n",
       "                \n",
       "            </td>\n",
       "            <td style=\"padding: 0 0.5em 0 0.5em; text-align: left; border: none;\">\n",
       "                sum_diag_nr_log\n",
       "            </td>\n",
       "        </tr>\n",
       "    \n",
       "        <tr style=\"background-color: hsl(0, 100.00%, 100.00%); border: none;\">\n",
       "            <td style=\"padding: 0 1em 0 0.5em; text-align: right; border: none;\">\n",
       "                0\n",
       "                \n",
       "                    &plusmn; 0.0000\n",
       "                \n",
       "            </td>\n",
       "            <td style=\"padding: 0 0.5em 0 0.5em; text-align: left; border: none;\">\n",
       "                sum_discharge_risk_log\n",
       "            </td>\n",
       "        </tr>\n",
       "    \n",
       "        <tr style=\"background-color: hsl(0, 100.00%, 100.00%); border: none;\">\n",
       "            <td style=\"padding: 0 1em 0 0.5em; text-align: right; border: none;\">\n",
       "                0\n",
       "                \n",
       "                    &plusmn; 0.0000\n",
       "                \n",
       "            </td>\n",
       "            <td style=\"padding: 0 0.5em 0 0.5em; text-align: left; border: none;\">\n",
       "                encounter_nr_log\n",
       "            </td>\n",
       "        </tr>\n",
       "    \n",
       "        <tr style=\"background-color: hsl(0, 100.00%, 100.00%); border: none;\">\n",
       "            <td style=\"padding: 0 1em 0 0.5em; text-align: right; border: none;\">\n",
       "                0\n",
       "                \n",
       "                    &plusmn; 0.0000\n",
       "                \n",
       "            </td>\n",
       "            <td style=\"padding: 0 0.5em 0 0.5em; text-align: left; border: none;\">\n",
       "                diag_nr\n",
       "            </td>\n",
       "        </tr>\n",
       "    \n",
       "        <tr style=\"background-color: hsl(0, 100.00%, 100.00%); border: none;\">\n",
       "            <td style=\"padding: 0 1em 0 0.5em; text-align: right; border: none;\">\n",
       "                0\n",
       "                \n",
       "                    &plusmn; 0.0000\n",
       "                \n",
       "            </td>\n",
       "            <td style=\"padding: 0 0.5em 0 0.5em; text-align: left; border: none;\">\n",
       "                diag_risk_max_log\n",
       "            </td>\n",
       "        </tr>\n",
       "    \n",
       "        <tr style=\"background-color: hsl(0, 100.00%, 100.00%); border: none;\">\n",
       "            <td style=\"padding: 0 1em 0 0.5em; text-align: right; border: none;\">\n",
       "                0\n",
       "                \n",
       "                    &plusmn; 0.0000\n",
       "                \n",
       "            </td>\n",
       "            <td style=\"padding: 0 0.5em 0 0.5em; text-align: left; border: none;\">\n",
       "                diag_nr_log\n",
       "            </td>\n",
       "        </tr>\n",
       "    \n",
       "        <tr style=\"background-color: hsl(0, 100.00%, 100.00%); border: none;\">\n",
       "            <td style=\"padding: 0 1em 0 0.5em; text-align: right; border: none;\">\n",
       "                0\n",
       "                \n",
       "                    &plusmn; 0.0000\n",
       "                \n",
       "            </td>\n",
       "            <td style=\"padding: 0 0.5em 0 0.5em; text-align: left; border: none;\">\n",
       "                sum_time_in_hospital_log\n",
       "            </td>\n",
       "        </tr>\n",
       "    \n",
       "        <tr style=\"background-color: hsl(0, 100.00%, 100.00%); border: none;\">\n",
       "            <td style=\"padding: 0 1em 0 0.5em; text-align: right; border: none;\">\n",
       "                0\n",
       "                \n",
       "                    &plusmn; 0.0000\n",
       "                \n",
       "            </td>\n",
       "            <td style=\"padding: 0 0.5em 0 0.5em; text-align: left; border: none;\">\n",
       "                sum_number_inpatient_log\n",
       "            </td>\n",
       "        </tr>\n",
       "    \n",
       "        <tr style=\"background-color: hsl(0, 100.00%, 100.00%); border: none;\">\n",
       "            <td style=\"padding: 0 1em 0 0.5em; text-align: right; border: none;\">\n",
       "                0\n",
       "                \n",
       "                    &plusmn; 0.0000\n",
       "                \n",
       "            </td>\n",
       "            <td style=\"padding: 0 0.5em 0 0.5em; text-align: left; border: none;\">\n",
       "                drug_multi_nr_log\n",
       "            </td>\n",
       "        </tr>\n",
       "    \n",
       "        <tr style=\"background-color: hsl(0, 100.00%, 100.00%); border: none;\">\n",
       "            <td style=\"padding: 0 1em 0 0.5em; text-align: right; border: none;\">\n",
       "                0\n",
       "                \n",
       "                    &plusmn; 0.0000\n",
       "                \n",
       "            </td>\n",
       "            <td style=\"padding: 0 0.5em 0 0.5em; text-align: left; border: none;\">\n",
       "                sum_drug_multi_nr_log\n",
       "            </td>\n",
       "        </tr>\n",
       "    \n",
       "        <tr style=\"background-color: hsl(0, 100.00%, 100.00%); border: none;\">\n",
       "            <td style=\"padding: 0 1em 0 0.5em; text-align: right; border: none;\">\n",
       "                0\n",
       "                \n",
       "                    &plusmn; 0.0000\n",
       "                \n",
       "            </td>\n",
       "            <td style=\"padding: 0 0.5em 0 0.5em; text-align: left; border: none;\">\n",
       "                sum_drug_multi_nr\n",
       "            </td>\n",
       "        </tr>\n",
       "    \n",
       "        <tr style=\"background-color: hsl(0, 100.00%, 100.00%); border: none;\">\n",
       "            <td style=\"padding: 0 1em 0 0.5em; text-align: right; border: none;\">\n",
       "                0\n",
       "                \n",
       "                    &plusmn; 0.0000\n",
       "                \n",
       "            </td>\n",
       "            <td style=\"padding: 0 0.5em 0 0.5em; text-align: left; border: none;\">\n",
       "                ambulatory_nr_log\n",
       "            </td>\n",
       "        </tr>\n",
       "    \n",
       "        <tr style=\"background-color: hsl(0, 100.00%, 100.00%); border: none;\">\n",
       "            <td style=\"padding: 0 1em 0 0.5em; text-align: right; border: none;\">\n",
       "                0\n",
       "                \n",
       "                    &plusmn; 0.0000\n",
       "                \n",
       "            </td>\n",
       "            <td style=\"padding: 0 0.5em 0 0.5em; text-align: left; border: none;\">\n",
       "                sum_ambulatory_nr_log\n",
       "            </td>\n",
       "        </tr>\n",
       "    \n",
       "        <tr style=\"background-color: hsl(0, 100.00%, 100.00%); border: none;\">\n",
       "            <td style=\"padding: 0 1em 0 0.5em; text-align: right; border: none;\">\n",
       "                0\n",
       "                \n",
       "                    &plusmn; 0.0000\n",
       "                \n",
       "            </td>\n",
       "            <td style=\"padding: 0 0.5em 0 0.5em; text-align: left; border: none;\">\n",
       "                emerg_nr_log\n",
       "            </td>\n",
       "        </tr>\n",
       "    \n",
       "        <tr style=\"background-color: hsl(0, 100.00%, 100.00%); border: none;\">\n",
       "            <td style=\"padding: 0 1em 0 0.5em; text-align: right; border: none;\">\n",
       "                0\n",
       "                \n",
       "                    &plusmn; 0.0000\n",
       "                \n",
       "            </td>\n",
       "            <td style=\"padding: 0 0.5em 0 0.5em; text-align: left; border: none;\">\n",
       "                sum_emerg_nr_log\n",
       "            </td>\n",
       "        </tr>\n",
       "    \n",
       "        <tr style=\"background-color: hsl(0, 100.00%, 100.00%); border: none;\">\n",
       "            <td style=\"padding: 0 1em 0 0.5em; text-align: right; border: none;\">\n",
       "                0\n",
       "                \n",
       "                    &plusmn; 0.0000\n",
       "                \n",
       "            </td>\n",
       "            <td style=\"padding: 0 0.5em 0 0.5em; text-align: left; border: none;\">\n",
       "                intervention_nr_log\n",
       "            </td>\n",
       "        </tr>\n",
       "    \n",
       "        <tr style=\"background-color: hsl(0, 100.00%, 100.00%); border: none;\">\n",
       "            <td style=\"padding: 0 1em 0 0.5em; text-align: right; border: none;\">\n",
       "                0\n",
       "                \n",
       "                    &plusmn; 0.0000\n",
       "                \n",
       "            </td>\n",
       "            <td style=\"padding: 0 0.5em 0 0.5em; text-align: left; border: none;\">\n",
       "                sum_intervention_nr_log\n",
       "            </td>\n",
       "        </tr>\n",
       "    \n",
       "        <tr style=\"background-color: hsl(0, 100.00%, 100.00%); border: none;\">\n",
       "            <td style=\"padding: 0 1em 0 0.5em; text-align: right; border: none;\">\n",
       "                0\n",
       "                \n",
       "                    &plusmn; 0.0000\n",
       "                \n",
       "            </td>\n",
       "            <td style=\"padding: 0 0.5em 0 0.5em; text-align: left; border: none;\">\n",
       "                number_diagnoses_log\n",
       "            </td>\n",
       "        </tr>\n",
       "    \n",
       "        <tr style=\"background-color: hsl(0, 100.00%, 100.00%); border: none;\">\n",
       "            <td style=\"padding: 0 1em 0 0.5em; text-align: right; border: none;\">\n",
       "                0\n",
       "                \n",
       "                    &plusmn; 0.0000\n",
       "                \n",
       "            </td>\n",
       "            <td style=\"padding: 0 0.5em 0 0.5em; text-align: left; border: none;\">\n",
       "                time_in_hospital_log\n",
       "            </td>\n",
       "        </tr>\n",
       "    \n",
       "        <tr style=\"background-color: hsl(0, 100.00%, 100.00%); border: none;\">\n",
       "            <td style=\"padding: 0 1em 0 0.5em; text-align: right; border: none;\">\n",
       "                0\n",
       "                \n",
       "                    &plusmn; 0.0000\n",
       "                \n",
       "            </td>\n",
       "            <td style=\"padding: 0 0.5em 0 0.5em; text-align: left; border: none;\">\n",
       "                number_inpatient_log\n",
       "            </td>\n",
       "        </tr>\n",
       "    \n",
       "        <tr style=\"background-color: hsl(0, 100.00%, 100.00%); border: none;\">\n",
       "            <td style=\"padding: 0 1em 0 0.5em; text-align: right; border: none;\">\n",
       "                0\n",
       "                \n",
       "                    &plusmn; 0.0000\n",
       "                \n",
       "            </td>\n",
       "            <td style=\"padding: 0 0.5em 0 0.5em; text-align: left; border: none;\">\n",
       "                sum_number_diagnoses_log\n",
       "            </td>\n",
       "        </tr>\n",
       "    \n",
       "        <tr style=\"background-color: hsl(0, 100.00%, 100.00%); border: none;\">\n",
       "            <td style=\"padding: 0 1em 0 0.5em; text-align: right; border: none;\">\n",
       "                0\n",
       "                \n",
       "                    &plusmn; 0.0000\n",
       "                \n",
       "            </td>\n",
       "            <td style=\"padding: 0 0.5em 0 0.5em; text-align: left; border: none;\">\n",
       "                number_emergency_log\n",
       "            </td>\n",
       "        </tr>\n",
       "    \n",
       "        <tr style=\"background-color: hsl(0, 100.00%, 100.00%); border: none;\">\n",
       "            <td style=\"padding: 0 1em 0 0.5em; text-align: right; border: none;\">\n",
       "                0\n",
       "                \n",
       "                    &plusmn; 0.0000\n",
       "                \n",
       "            </td>\n",
       "            <td style=\"padding: 0 0.5em 0 0.5em; text-align: left; border: none;\">\n",
       "                sum_num_medications_log\n",
       "            </td>\n",
       "        </tr>\n",
       "    \n",
       "        <tr style=\"background-color: hsl(0, 100.00%, 100.00%); border: none;\">\n",
       "            <td style=\"padding: 0 1em 0 0.5em; text-align: right; border: none;\">\n",
       "                0\n",
       "                \n",
       "                    &plusmn; 0.0000\n",
       "                \n",
       "            </td>\n",
       "            <td style=\"padding: 0 0.5em 0 0.5em; text-align: left; border: none;\">\n",
       "                sum_num_lab_procedures_log\n",
       "            </td>\n",
       "        </tr>\n",
       "    \n",
       "        <tr style=\"background-color: hsl(0, 100.00%, 100.00%); border: none;\">\n",
       "            <td style=\"padding: 0 1em 0 0.5em; text-align: right; border: none;\">\n",
       "                0\n",
       "                \n",
       "                    &plusmn; 0.0000\n",
       "                \n",
       "            </td>\n",
       "            <td style=\"padding: 0 0.5em 0 0.5em; text-align: left; border: none;\">\n",
       "                num_lab_procedures_log\n",
       "            </td>\n",
       "        </tr>\n",
       "    \n",
       "        <tr style=\"background-color: hsl(0, 100.00%, 100.00%); border: none;\">\n",
       "            <td style=\"padding: 0 1em 0 0.5em; text-align: right; border: none;\">\n",
       "                0\n",
       "                \n",
       "                    &plusmn; 0.0000\n",
       "                \n",
       "            </td>\n",
       "            <td style=\"padding: 0 0.5em 0 0.5em; text-align: left; border: none;\">\n",
       "                sum_number_emergency_log\n",
       "            </td>\n",
       "        </tr>\n",
       "    \n",
       "        <tr style=\"background-color: hsl(0, 100.00%, 100.00%); border: none;\">\n",
       "            <td style=\"padding: 0 1em 0 0.5em; text-align: right; border: none;\">\n",
       "                0\n",
       "                \n",
       "                    &plusmn; 0.0000\n",
       "                \n",
       "            </td>\n",
       "            <td style=\"padding: 0 0.5em 0 0.5em; text-align: left; border: none;\">\n",
       "                num_procedures_log\n",
       "            </td>\n",
       "        </tr>\n",
       "    \n",
       "        <tr style=\"background-color: hsl(0, 100.00%, 100.00%); border: none;\">\n",
       "            <td style=\"padding: 0 1em 0 0.5em; text-align: right; border: none;\">\n",
       "                0\n",
       "                \n",
       "                    &plusmn; 0.0000\n",
       "                \n",
       "            </td>\n",
       "            <td style=\"padding: 0 0.5em 0 0.5em; text-align: left; border: none;\">\n",
       "                sum_num_procedures_log\n",
       "            </td>\n",
       "        </tr>\n",
       "    \n",
       "        <tr style=\"background-color: hsl(0, 100.00%, 100.00%); border: none;\">\n",
       "            <td style=\"padding: 0 1em 0 0.5em; text-align: right; border: none;\">\n",
       "                0\n",
       "                \n",
       "                    &plusmn; 0.0000\n",
       "                \n",
       "            </td>\n",
       "            <td style=\"padding: 0 0.5em 0 0.5em; text-align: left; border: none;\">\n",
       "                num_medications_log\n",
       "            </td>\n",
       "        </tr>\n",
       "    \n",
       "        <tr style=\"background-color: hsl(0, 100.00%, 100.00%); border: none;\">\n",
       "            <td style=\"padding: 0 1em 0 0.5em; text-align: right; border: none;\">\n",
       "                0\n",
       "                \n",
       "                    &plusmn; 0.0000\n",
       "                \n",
       "            </td>\n",
       "            <td style=\"padding: 0 0.5em 0 0.5em; text-align: left; border: none;\">\n",
       "                sum_number_outpatient_log\n",
       "            </td>\n",
       "        </tr>\n",
       "    \n",
       "        <tr style=\"background-color: hsl(0, 100.00%, 100.00%); border: none;\">\n",
       "            <td style=\"padding: 0 1em 0 0.5em; text-align: right; border: none;\">\n",
       "                0\n",
       "                \n",
       "                    &plusmn; 0.0000\n",
       "                \n",
       "            </td>\n",
       "            <td style=\"padding: 0 0.5em 0 0.5em; text-align: left; border: none;\">\n",
       "                number_outpatient_log\n",
       "            </td>\n",
       "        </tr>\n",
       "    \n",
       "        <tr style=\"background-color: hsl(0, 100.00%, 100.00%); border: none;\">\n",
       "            <td style=\"padding: 0 1em 0 0.5em; text-align: right; border: none;\">\n",
       "                0\n",
       "                \n",
       "                    &plusmn; 0.0000\n",
       "                \n",
       "            </td>\n",
       "            <td style=\"padding: 0 0.5em 0 0.5em; text-align: left; border: none;\">\n",
       "                total_drug_risk_log\n",
       "            </td>\n",
       "        </tr>\n",
       "    \n",
       "        <tr style=\"background-color: hsl(0, 100.00%, 99.97%); border: none;\">\n",
       "            <td style=\"padding: 0 1em 0 0.5em; text-align: right; border: none;\">\n",
       "                -0.0000\n",
       "                \n",
       "                    &plusmn; 0.0003\n",
       "                \n",
       "            </td>\n",
       "            <td style=\"padding: 0 0.5em 0 0.5em; text-align: left; border: none;\">\n",
       "                number_outpatient\n",
       "            </td>\n",
       "        </tr>\n",
       "    \n",
       "        <tr style=\"background-color: hsl(0, 100.00%, 99.95%); border: none;\">\n",
       "            <td style=\"padding: 0 1em 0 0.5em; text-align: right; border: none;\">\n",
       "                -0.0001\n",
       "                \n",
       "                    &plusmn; 0.0003\n",
       "                \n",
       "            </td>\n",
       "            <td style=\"padding: 0 0.5em 0 0.5em; text-align: left; border: none;\">\n",
       "                drug_multi_nr\n",
       "            </td>\n",
       "        </tr>\n",
       "    \n",
       "        <tr style=\"background-color: hsl(0, 100.00%, 99.94%); border: none;\">\n",
       "            <td style=\"padding: 0 1em 0 0.5em; text-align: right; border: none;\">\n",
       "                -0.0001\n",
       "                \n",
       "                    &plusmn; 0.0001\n",
       "                \n",
       "            </td>\n",
       "            <td style=\"padding: 0 0.5em 0 0.5em; text-align: left; border: none;\">\n",
       "                sum_diag_nr\n",
       "            </td>\n",
       "        </tr>\n",
       "    \n",
       "        <tr style=\"background-color: hsl(0, 100.00%, 99.91%); border: none;\">\n",
       "            <td style=\"padding: 0 1em 0 0.5em; text-align: right; border: none;\">\n",
       "                -0.0002\n",
       "                \n",
       "                    &plusmn; 0.0002\n",
       "                \n",
       "            </td>\n",
       "            <td style=\"padding: 0 0.5em 0 0.5em; text-align: left; border: none;\">\n",
       "                number_emergency\n",
       "            </td>\n",
       "        </tr>\n",
       "    \n",
       "        <tr style=\"background-color: hsl(0, 100.00%, 99.83%); border: none;\">\n",
       "            <td style=\"padding: 0 1em 0 0.5em; text-align: right; border: none;\">\n",
       "                -0.0004\n",
       "                \n",
       "                    &plusmn; 0.0006\n",
       "                \n",
       "            </td>\n",
       "            <td style=\"padding: 0 0.5em 0 0.5em; text-align: left; border: none;\">\n",
       "                sum_num_procedures\n",
       "            </td>\n",
       "        </tr>\n",
       "    \n",
       "        <tr style=\"background-color: hsl(0, 100.00%, 99.82%); border: none;\">\n",
       "            <td style=\"padding: 0 1em 0 0.5em; text-align: right; border: none;\">\n",
       "                -0.0005\n",
       "                \n",
       "                    &plusmn; 0.0003\n",
       "                \n",
       "            </td>\n",
       "            <td style=\"padding: 0 0.5em 0 0.5em; text-align: left; border: none;\">\n",
       "                ambulatory_nr\n",
       "            </td>\n",
       "        </tr>\n",
       "    \n",
       "    \n",
       "    </tbody>\n",
       "</table>\n",
       "    \n",
       "\n",
       "    \n",
       "\n",
       "\n",
       "    \n",
       "\n",
       "    \n",
       "\n",
       "    \n",
       "\n",
       "    \n",
       "\n",
       "    \n",
       "\n",
       "    \n",
       "\n",
       "\n",
       "\n"
      ],
      "text/plain": [
       "<IPython.core.display.HTML object>"
      ]
     },
     "execution_count": 77,
     "metadata": {},
     "output_type": "execute_result"
    }
   ],
   "source": [
    "perm_feats = continuous_feats\n",
    "perm_feats = [feat for feat in perm_feats if feat not in black_list_feats]\n",
    "with_params = {\n",
    "    'feats' : perm_feats,\n",
    "    'model' : xgb.XGBRegressor,\n",
    "    'params': {'n_jobs': 8,\n",
    "               'random_state': 2019,\n",
    "               'objective': 'reg:squarederror',\n",
    "               'max_depth': 5,\n",
    "               'subsample': 0.95},\n",
    "    'cv'    : StratifiedKFold(n_splits=4, random_state=2019),\n",
    "    'plot'  : None,\n",
    "    'csv'   : None,\n",
    "    'cut'   : 50\n",
    "    \n",
    "}\n",
    "\n",
    "perm = perm_model(**with_params)\n",
    "eli5.show_weights(perm, feature_names=perm_feats, top=150)"
   ]
  },
  {
   "cell_type": "code",
   "execution_count": 78,
   "metadata": {},
   "outputs": [
    {
     "data": {
      "text/html": [
       "\n",
       "    <style>\n",
       "    table.eli5-weights tr:hover {\n",
       "        filter: brightness(85%);\n",
       "    }\n",
       "</style>\n",
       "\n",
       "\n",
       "\n",
       "    \n",
       "\n",
       "    \n",
       "\n",
       "    \n",
       "\n",
       "    \n",
       "\n",
       "    \n",
       "\n",
       "    \n",
       "\n",
       "\n",
       "    \n",
       "\n",
       "    \n",
       "\n",
       "    \n",
       "\n",
       "    \n",
       "\n",
       "    \n",
       "\n",
       "    \n",
       "\n",
       "\n",
       "    \n",
       "\n",
       "    \n",
       "\n",
       "    \n",
       "\n",
       "    \n",
       "\n",
       "    \n",
       "        <table class=\"eli5-weights eli5-feature-importances\" style=\"border-collapse: collapse; border: none; margin-top: 0em; table-layout: auto;\">\n",
       "    <thead>\n",
       "    <tr style=\"border: none;\">\n",
       "        <th style=\"padding: 0 1em 0 0.5em; text-align: right; border: none;\">Weight</th>\n",
       "        <th style=\"padding: 0 0.5em 0 0.5em; text-align: left; border: none;\">Feature</th>\n",
       "    </tr>\n",
       "    </thead>\n",
       "    <tbody>\n",
       "    \n",
       "        <tr style=\"background-color: hsl(120, 100.00%, 80.00%); border: none;\">\n",
       "            <td style=\"padding: 0 1em 0 0.5em; text-align: right; border: none;\">\n",
       "                0.0006\n",
       "                \n",
       "                    &plusmn; 0.0005\n",
       "                \n",
       "            </td>\n",
       "            <td style=\"padding: 0 0.5em 0 0.5em; text-align: left; border: none;\">\n",
       "                drug_down_cat\n",
       "            </td>\n",
       "        </tr>\n",
       "    \n",
       "        <tr style=\"background-color: hsl(120, 100.00%, 84.49%); border: none;\">\n",
       "            <td style=\"padding: 0 1em 0 0.5em; text-align: right; border: none;\">\n",
       "                0.0004\n",
       "                \n",
       "                    &plusmn; 0.0002\n",
       "                \n",
       "            </td>\n",
       "            <td style=\"padding: 0 0.5em 0 0.5em; text-align: left; border: none;\">\n",
       "                drug_multi_cat\n",
       "            </td>\n",
       "        </tr>\n",
       "    \n",
       "        <tr style=\"background-color: hsl(120, 100.00%, 88.07%); border: none;\">\n",
       "            <td style=\"padding: 0 1em 0 0.5em; text-align: right; border: none;\">\n",
       "                0.0003\n",
       "                \n",
       "                    &plusmn; 0.0002\n",
       "                \n",
       "            </td>\n",
       "            <td style=\"padding: 0 0.5em 0 0.5em; text-align: left; border: none;\">\n",
       "                diag_circul_cat\n",
       "            </td>\n",
       "        </tr>\n",
       "    \n",
       "        <tr style=\"background-color: hsl(120, 100.00%, 89.63%); border: none;\">\n",
       "            <td style=\"padding: 0 1em 0 0.5em; text-align: right; border: none;\">\n",
       "                0.0002\n",
       "                \n",
       "                    &plusmn; 0.0001\n",
       "                \n",
       "            </td>\n",
       "            <td style=\"padding: 0 0.5em 0 0.5em; text-align: left; border: none;\">\n",
       "                diag_ha_cat\n",
       "            </td>\n",
       "        </tr>\n",
       "    \n",
       "        <tr style=\"background-color: hsl(120, 100.00%, 90.45%); border: none;\">\n",
       "            <td style=\"padding: 0 1em 0 0.5em; text-align: right; border: none;\">\n",
       "                0.0002\n",
       "                \n",
       "                    &plusmn; 0.0003\n",
       "                \n",
       "            </td>\n",
       "            <td style=\"padding: 0 0.5em 0 0.5em; text-align: left; border: none;\">\n",
       "                diag_obesity_cat\n",
       "            </td>\n",
       "        </tr>\n",
       "    \n",
       "        <tr style=\"background-color: hsl(120, 100.00%, 90.45%); border: none;\">\n",
       "            <td style=\"padding: 0 1em 0 0.5em; text-align: right; border: none;\">\n",
       "                0.0002\n",
       "                \n",
       "                    &plusmn; 0.0002\n",
       "                \n",
       "            </td>\n",
       "            <td style=\"padding: 0 0.5em 0 0.5em; text-align: left; border: none;\">\n",
       "                diag_complication_cat\n",
       "            </td>\n",
       "        </tr>\n",
       "    \n",
       "        <tr style=\"background-color: hsl(120, 100.00%, 94.12%); border: none;\">\n",
       "            <td style=\"padding: 0 1em 0 0.5em; text-align: right; border: none;\">\n",
       "                0.0001\n",
       "                \n",
       "                    &plusmn; 0.0001\n",
       "                \n",
       "            </td>\n",
       "            <td style=\"padding: 0 0.5em 0 0.5em; text-align: left; border: none;\">\n",
       "                drug_insulin_cat\n",
       "            </td>\n",
       "        </tr>\n",
       "    \n",
       "        <tr style=\"background-color: hsl(120, 100.00%, 95.19%); border: none;\">\n",
       "            <td style=\"padding: 0 1em 0 0.5em; text-align: right; border: none;\">\n",
       "                0.0001\n",
       "                \n",
       "                    &plusmn; 0.0001\n",
       "                \n",
       "            </td>\n",
       "            <td style=\"padding: 0 0.5em 0 0.5em; text-align: left; border: none;\">\n",
       "                drug_none_cat\n",
       "            </td>\n",
       "        </tr>\n",
       "    \n",
       "        <tr style=\"background-color: hsl(120, 100.00%, 95.19%); border: none;\">\n",
       "            <td style=\"padding: 0 1em 0 0.5em; text-align: right; border: none;\">\n",
       "                0.0001\n",
       "                \n",
       "                    &plusmn; 0.0002\n",
       "                \n",
       "            </td>\n",
       "            <td style=\"padding: 0 0.5em 0 0.5em; text-align: left; border: none;\">\n",
       "                diag_ihd_cat\n",
       "            </td>\n",
       "        </tr>\n",
       "    \n",
       "        <tr style=\"background-color: hsl(120, 100.00%, 96.38%); border: none;\">\n",
       "            <td style=\"padding: 0 1em 0 0.5em; text-align: right; border: none;\">\n",
       "                0.0000\n",
       "                \n",
       "                    &plusmn; 0.0002\n",
       "                \n",
       "            </td>\n",
       "            <td style=\"padding: 0 0.5em 0 0.5em; text-align: left; border: none;\">\n",
       "                drug_up_cat\n",
       "            </td>\n",
       "        </tr>\n",
       "    \n",
       "        <tr style=\"background-color: hsl(0, 100.00%, 100.00%); border: none;\">\n",
       "            <td style=\"padding: 0 1em 0 0.5em; text-align: right; border: none;\">\n",
       "                0\n",
       "                \n",
       "                    &plusmn; 0.0000\n",
       "                \n",
       "            </td>\n",
       "            <td style=\"padding: 0 0.5em 0 0.5em; text-align: left; border: none;\">\n",
       "                diabetesMed\n",
       "            </td>\n",
       "        </tr>\n",
       "    \n",
       "        <tr style=\"background-color: hsl(0, 100.00%, 100.00%); border: none;\">\n",
       "            <td style=\"padding: 0 1em 0 0.5em; text-align: right; border: none;\">\n",
       "                0\n",
       "                \n",
       "                    &plusmn; 0.0000\n",
       "                \n",
       "            </td>\n",
       "            <td style=\"padding: 0 0.5em 0 0.5em; text-align: left; border: none;\">\n",
       "                change\n",
       "            </td>\n",
       "        </tr>\n",
       "    \n",
       "        <tr style=\"background-color: hsl(0, 100.00%, 100.00%); border: none;\">\n",
       "            <td style=\"padding: 0 1em 0 0.5em; text-align: right; border: none;\">\n",
       "                0\n",
       "                \n",
       "                    &plusmn; 0.0000\n",
       "                \n",
       "            </td>\n",
       "            <td style=\"padding: 0 0.5em 0 0.5em; text-align: left; border: none;\">\n",
       "                model1_cat\n",
       "            </td>\n",
       "        </tr>\n",
       "    \n",
       "        <tr style=\"background-color: hsl(0, 100.00%, 100.00%); border: none;\">\n",
       "            <td style=\"padding: 0 1em 0 0.5em; text-align: right; border: none;\">\n",
       "                0\n",
       "                \n",
       "                    &plusmn; 0.0000\n",
       "                \n",
       "            </td>\n",
       "            <td style=\"padding: 0 0.5em 0 0.5em; text-align: left; border: none;\">\n",
       "                expired_cat\n",
       "            </td>\n",
       "        </tr>\n",
       "    \n",
       "        <tr style=\"background-color: hsl(0, 100.00%, 100.00%); border: none;\">\n",
       "            <td style=\"padding: 0 1em 0 0.5em; text-align: right; border: none;\">\n",
       "                0\n",
       "                \n",
       "                    &plusmn; 0.0000\n",
       "                \n",
       "            </td>\n",
       "            <td style=\"padding: 0 0.5em 0 0.5em; text-align: left; border: none;\">\n",
       "                diag_high_number_80_cat\n",
       "            </td>\n",
       "        </tr>\n",
       "    \n",
       "    \n",
       "    </tbody>\n",
       "</table>\n",
       "    \n",
       "\n",
       "    \n",
       "\n",
       "\n",
       "    \n",
       "\n",
       "    \n",
       "\n",
       "    \n",
       "\n",
       "    \n",
       "\n",
       "    \n",
       "\n",
       "    \n",
       "\n",
       "\n",
       "\n"
      ],
      "text/plain": [
       "<IPython.core.display.HTML object>"
      ]
     },
     "execution_count": 78,
     "metadata": {},
     "output_type": "execute_result"
    }
   ],
   "source": [
    "perm_feats = binary_cat_feats\n",
    "perm_feats = [feat for feat in perm_feats if feat not in black_list_feats]\n",
    "with_params = {\n",
    "    'feats' : perm_feats,\n",
    "    'model' : xgb.XGBClassifier,\n",
    "    'params': {'n_jobs': 8,\n",
    "               'random_state': 2019,\n",
    "               'max_depth': 5,\n",
    "               'subsample': 0.95},\n",
    "    'cv'    : StratifiedKFold(n_splits=4, random_state=2019),\n",
    "    'plot'  : True,\n",
    "    'csv'   : None,\n",
    "    'cut'   : 0\n",
    "    \n",
    "}\n",
    "\n",
    "perm = perm_model(**with_params)\n",
    "eli5.show_weights(perm, feature_names=perm_feats, top=150)"
   ]
  },
  {
   "cell_type": "markdown",
   "metadata": {},
   "source": [
    "### szukanie najlepszych cech przez xgbfir"
   ]
  },
  {
   "cell_type": "code",
   "execution_count": 102,
   "metadata": {},
   "outputs": [
    {
     "name": "stdout",
     "output_type": "stream",
     "text": [
      "(('test', 4195, 28975), ('train', 5721, 27330), ('score', 0.7461868918923346)) 55\n"
     ]
    }
   ],
   "source": [
    "model_feats = all_feats\n",
    "model_feats = [feat for feat in model_feats if feat not in black_list_feats]\n",
    "with_params = {\n",
    "    'feats' : model_feats,\n",
    "    'model' : xgb.XGBRegressor,\n",
    "    'params': {'n_jobs': 8,\n",
    "               'random_state': 2019,\n",
    "               'objective': 'reg:squarederror',\n",
    "               'max_depth': 5,\n",
    "               'learning_rate': 0.1966318758378431, \n",
    "               'n_estimators': 960, \n",
    "               'subsample': 0.7092775404962167},\n",
    "    'cv'    : StratifiedKFold(n_splits=4, random_state=2019),\n",
    "    'plot'  : None,\n",
    "    'csv'   : 'model37_xgbfir_best_reg.csv',\n",
    "    'cut'   : 50\n",
    "}\n",
    "result = None\n",
    "for x in range(55, 56):\n",
    "    with_params['cut'] = x\n",
    "    result = run_model(**with_params)\n",
    "    print(result[:3], x)\n",
    "xgbfir.saveXgbFI(result[3], feature_names=model_feats, OutputXlsxFile='diabetes.xlsx')"
   ]
  },
  {
   "cell_type": "code",
   "execution_count": 101,
   "metadata": {},
   "outputs": [
    {
     "name": "stdout",
     "output_type": "stream",
     "text": [
      "Wall time: 28.2 s\n",
      "(('test', 4108, 29062), ('train', 5721, 27330), ('score', 1.1963686486791172))\n"
     ]
    },
    {
     "data": {
      "image/png": "[encoded data removed]",
      "text/plain": [
       "<Figure size 432x288 with 1 Axes>"
      ]
     },
     "metadata": {
      "needs_background": "light"
     },
     "output_type": "display_data"
    }
   ],
   "source": [
    "model_feats = all_feats\n",
    "model_feats = [feat for feat in model_feats if feat not in black_list_feats]\n",
    "with_params = {\n",
    "    'feats' : model_feats,\n",
    "    'model' : xgb.XGBClassifier,\n",
    "    'params': {'n_jobs': 8,\n",
    "               'random_state': 2019,\n",
    "               'max_depth': 5,\n",
    "               'subsample': 0.95,\n",
    "},\n",
    "    'cv'    : StratifiedKFold(n_splits=4, random_state=2019),\n",
    "    'plot'  : True,\n",
    "    'csv'   : None,\n",
    "    'cut'   : 50\n",
    "}\n",
    "\n",
    "%time result = run_model(**with_params)\n",
    "print(result[:3])\n",
    "xgbfir.saveXgbFI(result[3], feature_names=model_feats, OutputXlsxFile='diabetes.xlsx')"
   ]
  },
  {
   "cell_type": "markdown",
   "metadata": {},
   "source": [
    "### optymalizacja parametrów modelu"
   ]
  },
  {
   "cell_type": "code",
   "execution_count": 92,
   "metadata": {},
   "outputs": [
    {
     "name": "stdout",
     "output_type": "stream",
     "text": [
      "100%|███████████████████████████████████████████████████| 10/10 [00:40<00:00,  4.07s/it, best loss: 1.4760916712197933]\n",
      "The best params:  {'x_learning_rate': 0.1998182705297261, 'x_random_state': 56.0, 'x_subsample': 0.990058617557935}\n"
     ]
    }
   ],
   "source": [
    "space ={\n",
    "    'subsample': hp.uniform('x_subsample', 0.7, 1.),\n",
    "    'learning_rate': hp.uniform('x_learning_rate', 0.05, 0.2),\n",
    "    'max_depth': 5, \n",
    "    'random_state': hp.quniform('x_random_state', 1, 1000, 1), \n",
    "    'n_estimators': 100,\n",
    "    'objective': 'reg:squarederror',\n",
    "    'n_jobs': 8,\n",
    "    'cut': 55, # hp.quniform('x_cut', 42, 53, 1),\n",
    "    'cv': StratifiedKFold(n_splits=4, random_state=2019),\n",
    "    'model': xgb.XGBRegressor,\n",
    "    'feats': sum_feats\n",
    "}\n",
    "\n",
    "trials = Trials()\n",
    "best_params = fmin(fn=param_opt,\n",
    "            space=space,\n",
    "            algo=partial(tpe.suggest, n_startup_jobs=1),\n",
    "            max_evals=10,\n",
    "            trials=trials)\n",
    "\n",
    "print(\"The best params: \", best_params)"
   ]
  },
  {
   "cell_type": "code",
   "execution_count": 93,
   "metadata": {},
   "outputs": [
    {
     "name": "stdout",
     "output_type": "stream",
     "text": [
      "100%|███████████████████████████████████████████████████| 10/10 [00:27<00:00,  2.77s/it, best loss: 1.9187697205861012]\n",
      "The best params:  {'x_learning_rate': 0.16639236855249862, 'x_random_state': 564.0, 'x_subsample': 0.7624677791428668}\n"
     ]
    }
   ],
   "source": [
    "space ={\n",
    "    'subsample': hp.uniform('x_subsample', 0.7, 1.),\n",
    "    'learning_rate': hp.uniform('x_learning_rate', 0.05, 0.2),\n",
    "    'max_depth': 5, \n",
    "    'random_state': hp.quniform('x_random_state', 1, 1000, 1), \n",
    "    'n_estimators': 100,\n",
    "    'n_jobs': 8,\n",
    "    'cut': 55, # hp.quniform('x_cut', 42, 53, 1),\n",
    "    'cv': StratifiedKFold(n_splits=4, random_state=2019),\n",
    "    'model': xgb.XGBClassifier,\n",
    "    'feats': used_drug_feats\n",
    "}\n",
    "\n",
    "trials = Trials()\n",
    "best_params = fmin(fn=param_opt,\n",
    "            space=space,\n",
    "            algo=partial(tpe.suggest, n_startup_jobs=1),\n",
    "            max_evals=10,\n",
    "            trials=trials)\n",
    "\n",
    "print(\"The best params: \", best_params)"
   ]
  },
  {
   "cell_type": "markdown",
   "metadata": {},
   "source": [
    "### różne zestawy \"najlepszych\" cech"
   ]
  },
  {
   "cell_type": "code",
   "execution_count": 82,
   "metadata": {},
   "outputs": [],
   "source": [
    "best_clas = ['encounter_nr', 'number_inpatient', 'sum_number_inpatient', 'emerg_nr', 'sum_diag_nr', \n",
    "              'sum_emerg_nr', 'intervention_nr', 'sum_intervention_nr', 'sum_diag_nr_log',\n",
    "              'total_diag_risk', 'sum_number_diagnoses', 'total_diag_risk_log', 'sum_number_diagnoses_log', \n",
    "              'total_diag_risk', 'total_diag_risk_log', 'sum_discharge_risk', 'sum_num_lab_procedures',\n",
    "              'sum_discharge_risk_log', 'sum_num_lab_procedures_log', 'sum_num_medications', 'sum_num_medications_log',\n",
    "              'sum_time_in_hospital', 'sum_time_in_hospital_log', 'total_drug_risk', 'total_drug_risk_log', \n",
    "              'sum_drug_multi_nr', 'sum_drug_multi_nr_log']\n",
    "best_reg = ['encounter_nr', 'number_inpatient', 'sum_number_inpatient', \n",
    "              'emerg_nr', 'sum_diag_nr', 'sum_emerg_nr', 'intervention_nr', 'sum_intervention_nr', \n",
    "              'sum_diag_nr_log', 'total_diag_risk', 'sum_number_diagnoses', 'total_diag_risk_log', \n",
    "              'sum_number_diagnoses_log', 'total_diag_risk', 'total_diag_risk_log', 'sum_discharge_risk',\n",
    "              'sum_discharge_risk_log', 'sum_num_lab_procedures', 'sum_num_lab_procedures_log',\n",
    "              'sum_num_medications', 'sum_num_medications_log', 'sum_time_in_hospital', 'sum_time_in_hospital_log',\n",
    "              'total_drug_risk', 'total_drug_risk_log', 'sum_drug_multi_nr', 'sum_drug_multi_nr_log']"
   ]
  },
  {
   "cell_type": "code",
   "execution_count": 83,
   "metadata": {},
   "outputs": [],
   "source": [
    "worst_reg = ['metformin', 'diag_2_cat', 'glipizide', 'num_medications', 'diag_complication_cat', 'race_cat', 'insulin', \n",
    "             'change', 'metformin-rosiglitazone', 'sum_number_outpatient_log']\n",
    "best_reg = ['diag_circul_cat', 'emerg_nr', 'weight_cat', 'num_lab_procedures', 'number_inpatient', 'intervention_nr', \n",
    "            'time_in_hospital', 'discharge_disposition_id', 'glimepiride', 'sum_emerg_nr']"
   ]
  },
  {
   "cell_type": "code",
   "execution_count": 84,
   "metadata": {},
   "outputs": [],
   "source": [
    "worst_clas = ['medical_specialty_cat', 'num_lab_procedures', 'drug_down_cat', 'glipizide', 'number_outpatient', \n",
    "       'sum_number_diagnoses_log', 'sum_ambulatory_nr_log', 'sum_number_diagnoses', 'diag_obesity_cat', \n",
    "       'discharge_disposition_id']\n",
    "best_clas = ['diag_ha_cat', 'admission_type_id', 'race_cat', 'payer_code_cat', 'patient_nbr', 'drug_up_cat', \n",
    "      'sum_num_medications_log', 'number_inpatient', 'admission_source_id', 'metformin-pioglitazone']"
   ]
  },
  {
   "cell_type": "code",
   "execution_count": 85,
   "metadata": {},
   "outputs": [],
   "source": [
    "worst_clas = ['glimepiride-pioglitazone', 'sum_number_inpatient', 'sum_number_emergency_log', 'diag_ihd_cat', \n",
    "              'sum_num_medications_log', 'tolazamide', 'sum_ambulatory_nr', 'expired', 'drug_up_cat', 'diag_risk_max', \n",
    "              'drug_change_cat', 'diabetesMed', 'citoglipton', 'total_diag_risk', 'repaglinide', 'diag_complication_cat', \n",
    "              'admission_type_id', 'nateglinide', 'metformin', 'metformin-rosiglitazone', 'drug_multi_nr', \n",
    "              'sum_number_diagnoses', 'glipizide-metformin', 'glyburide-metformin', 'sum_drug_multi_nr', 'acarbose', \n",
    "              'pioglitazone', 'diag_risk_sum_log', 'glyburide', 'drug_down_cat', 'tolbutamide', 'drug_none_cat', \n",
    "              'sum_num_lab_procedures', 'diag_circul_cat', 'max_glu_serum_cat', 'sum_drug_multi_nr_log', \n",
    "              'admission_source_id', 'sum_number_outpatient', 'sum_time_in_hospital', 'sum_diag_nr', 'troglitazone', \n",
    "              'chlorpropamide', 'drug_insulin_cat', 'sum_emerg_nr_log', 'sum_number_emergency', 'sum_ambulatory_nr_log', \n",
    "              'change', 'miglitol', 'sum_intervention_nr', 'sum_diag_nr_log']\n",
    "best_clas =  ['weight_cat', 'total_diag_risk', 'sum_number_emergency_log', 'sum_number_inpatient_log', 'drug_multi_cat', \n",
    "              'rosiglitazone', 'discharge_risk', 'ambulatory_nr', 'emerg_nr', 'number_inpatient', 'payer_code_cat', \n",
    "              'intervention_nr', 'patient_nbr', 'discharge_disposition_id', 'time_in_hospital', 'examide', \n",
    "              'sum_num_procedures', 'number_emergency', 'gender_cat', 'num_lab_procedures', 'discharge_disposition_id', \n",
    "              'glyburide', 'glipizide', 'sum_num_procedures_log', 'number_outpatient', 'diag_2_cat', \n",
    "              'sum_number_inpatient_log', 'age_cat', 'diag_1_cat', 'diag_obesity_cat', 'total_diag_risk_log', \n",
    "              'A1Cresult_cat', 'total_diag_risk_log', 'num_procedures', 'diag_3_cat', 'diag_ha_cat', \n",
    "              'total_diag_risk_log', 'diag_risk_sum', 'sum_number_outpatient_log', 'diag_risk_max_log', \n",
    "              'total_diag_risk_log', 'number_diagnoses', 'sum_num_medications', 'insulin', 'sum_num_lab_procedures_log', \n",
    "              'num_medications', 'sum_emerg_nr', 'medical_specialty_cat', 'sum_time_in_hospital_log', \n",
    "              'sum_number_diagnoses_log']"
   ]
  },
  {
   "cell_type": "code",
   "execution_count": 86,
   "metadata": {},
   "outputs": [],
   "source": [
    "worst_clas_skfold = ['number_outpatient', 'sum_drug_multi_nr_log', 'admission_source_id', 'repaglinide', 'diag_ha_cat', \n",
    "                     'patient_nbr', 'diag_complication_cat', 'glyburide-metformin', 'drug_up_cat', 'sum_number_inpatient_log', \n",
    "                     'sum_number_diagnoses', 'sum_emerg_nr_log', 'total_diag_risk_log', 'glyburide', 'drug_change_cat', \n",
    "                     'sum_num_lab_procedures', 'glipizide', 'rosiglitazone', 'sum_intervention_nr_log', 'encounter_nr', \n",
    "                     'glipizide-metformin', 'diag_high_number_80_cat', 'drug_multi_nr', 'drug_down_cat', 'weight_cat', \n",
    "                     'num_medications', 'age_cat', 'max_glu_serum_cat', 'diag_circul_cat', 'change', 'sum_drug_multi_nr', \n",
    "                     'sum_number_outpatient', 'tolazamide', 'total_drug_risk', 'expired', 'sum_num_procedures', \n",
    "                     'diag_high_risk_80_cat', 'number_emergency', 'acarbose', 'drug_multi_cat', 'sum_num_procedures_log', \n",
    "                     'sum_number_emergency_log', 'metformin', 'diag_obesity_cat', 'total_diag_risk', 'citoglipton', \n",
    "                     'chlorpropamide', 'diag_risk_max_log', 'nateglinide', 'troglitazone']\n",
    "best_clas_skfold = ['number_inpatient', 'admission_type_id', 'diag_3_cat', 'emerg_nr', 'intervention_nr', 'payer_code_cat', \n",
    "                    'pioglitazone', 'sum_number_outpatient_log', 'glimepiride', 'sum_num_lab_procedures_log', \n",
    "                    'number_diagnoses', 'miglitol', 'discharge_disposition_id', 'gender_cat', 'sum_number_diagnoses_log', \n",
    "                    'sum_num_medications', 'discharge_risk', 'sum_drug_risk', 'diag_1_cat', 'tolbutamide', 'time_in_hospital', \n",
    "                    'ambulatory_nr', 'sum_number_inpatient', 'sum_ambulatory_nr_log', 'diag_2_cat', 'diag_nr', \n",
    "                    'sum_num_medications_log', 'sum_ambulatory_nr', 'num_procedures', 'sum_intervention_nr', 'insulin', \n",
    "                    'sum_diag_nr_log', 'sum_emerg_nr', 'sum_diag_nr', 'diag_risk_sum_log', 'diag_risk_sum', \n",
    "                    'medical_specialty_cat', 'total_diag_risk', 'num_lab_procedures', 'drug_insulin_cat', \n",
    "                    'total_drug_risk_log', 'diag_ihd_cat', 'A1Cresult_cat', 'diabetesMed', 'sum_discharge_risk_log', \n",
    "                    'total_diag_risk_log', 'race_cat', 'sum_discharge_risk', 'diag_risk_max', 'glimepiride-pioglitazone']"
   ]
  },
  {
   "cell_type": "code",
   "execution_count": 87,
   "metadata": {},
   "outputs": [],
   "source": [
    "worst_reg_skfold = ['time_in_hospital', 'intervention_nr', 'sum_time_in_hospital_log', 'discharge_disposition_id', \n",
    "                    'sum_number_diagnoses', 'miglitol', 'glipizide', 'diag_1_cat', 'number_outpatient', 'sum_time_in_hospital', \n",
    "                    'drug_change_cat', 'glimepiride', 'acarbose', 'gender_cat', 'glyburide', 'sum_drug_multi_nr', 'expired', \n",
    "                    'encounter_nr', 'admission_type_id', 'pioglitazone', 'diag_risk_sum_log', 'diag_ihd_cat', 'patient_nbr', \n",
    "                    'sum_intervention_nr_log', 'sum_emerg_nr_log', 'glyburide-metformin', 'sum_num_medications_log', \n",
    "                    'diag_high_risk_80_cat', 'drug_insulin_cat', 'rosiglitazone', 'sum_intervention_nr', 'glipizide-metformin', \n",
    "                    'drug_multi_cat', 'sum_number_emergency', 'diag_nr', 'repaglinide', 'citoglipton', 'race_cat', \n",
    "                    'sum_emerg_nr', 'max_glu_serum_cat', 'sum_num_procedures', 'diag_complication_cat', 'diag_risk_max_log', \n",
    "                    'tolazamide', 'sum_ambulatory_nr', 'drug_none_cat', 'total_diag_risk_log', 'diabetesMed', \n",
    "                    'acetohexamide', 'metformin-pioglitazone']\n",
    "best_reg_skfold = ['metformin', 'weight_cat', 'number_inpatient', 'sum_discharge_risk_log', 'medical_specialty_cat', \n",
    "                   'number_emergency', 'diag_3_cat', 'emerg_nr', 'discharge_risk', 'sum_discharge_risk', 'insulin', \n",
    "                   'number_diagnoses', 'payer_code_cat', 'num_procedures', 'nateglinide', 'sum_number_emergency_log', \n",
    "                   'diag_ha_cat', 'sum_drug_risk', 'sum_number_diagnoses_log', 'ambulatory_nr', 'sum_drug_multi_nr_log', \n",
    "                   'diag_2_cat', 'age_cat', 'sum_num_lab_procedures', 'A1Cresult_cat', 'sum_number_inpatient', \n",
    "                   'admission_source_id', 'diag_risk_sum', 'num_lab_procedures', 'diag_obesity_cat', \n",
    "                   'sum_number_outpatient_log', 'total_drug_risk_log', 'sum_num_medications', 'change', \n",
    "                   'sum_num_procedures_log', 'drug_down_cat', 'drug_up_cat', 'metformin-rosiglitazone', \n",
    "                   'sum_num_lab_procedures_log', 'total_drug_risk', 'diag_circul_cat', 'sum_number_inpatient_log', \n",
    "                   'num_medications', 'sum_ambulatory_nr_log', 'drug_multi_nr', 'diag_risk_max', 'chlorpropamide', \n",
    "                   'troglitazone', 'sum_number_outpatient', 'diag_high_number_80_cat']"
   ]
  },
  {
   "cell_type": "code",
   "execution_count": 88,
   "metadata": {},
   "outputs": [],
   "source": [
    "eli5_best_reg = ['encounter_nr','number_inpatient','sum_number_inpatient','sum_intervention_nr','discharge_risk',\n",
    "                 'sum_emerg_nr','total_diag_risk','intervention_nr','emerg_nr','diag_risk_sum','sum_discharge_risk',\n",
    "                 'sum_num_lab_procedures','total_drug_risk','sum_time_in_hospital','sum_number_diagnoses','number_diagnoses',\n",
    "                 'num_lab_procedures','diag_risk_max','sum_num_medications','sum_drug_risk','sum_number_outpatient',\n",
    "                 'num_medications','num_procedures','time_in_hospital','sum_ambulatory_nr','number_outpatient',\n",
    "                 'diag_high_risk_80_cat','expired_cat','diag_complication_cat','diag_ha_cat','diag_high_number_80_cat',\n",
    "                 'drug_multi_cat','diag_circul_cat','drug_none_cat','change','drug_insulin_cat','diag_ihd_cat',\n",
    "                 'diag_obesity_cat','drug_change_cat','discharge_disposition_id','patient_nbr','diag_1_cat','diag_3_cat',\n",
    "                 'payer_code_cat','age_cat','medical_specialty_cat','diag_2_cat','admission_source_id','max_glu_serum_cat',\n",
    "                 'A1Cresult_cat','race_cat','weight_cat','insulin','metformin','glipizide','repaglinide','pioglitazone',\n",
    "                 'glyburide','glyburide-metformin','nateglinide','miglitol']\n"
   ]
  },
  {
   "cell_type": "code",
   "execution_count": 89,
   "metadata": {},
   "outputs": [],
   "source": [
    "eli5_best_clas = ['diag_high_risk_80_cat','drug_down_cat','diag_circul_cat','drug_change_cat','diag_high_number_80_cat',\n",
    "'expired_cat','drug_up_cat','discharge_disposition_id','patient_nbr','medical_specialty_cat','payer_code_cat',\n",
    "'admission_type_id',\n",
    "'number_inpatient_log','sum_number_inpatient_log','encounter_nr_log','intervention_nr_log','sum_discharge_risk_log',\n",
    "'emerg_nr_log','total_diag_risk_log','sum_intervention_nr_log','sum_num_lab_procedures_log','sum_number_diagnoses_log',\n",
    "'sum_emerg_nr_log','sum_time_in_hospital_log','diag_risk_sum_log','number_diagnoses_log','sum_diag_nr_log',\n",
    "'time_in_hospital_log','total_drug_risk_log','ambulatory_nr_log','sum_num_medications_log','sum_drug_multi_nr_log',\n",
    "'number_inpatient','encounter_nr','sum_number_inpatient','intervention_nr','discharge_risk','sum_discharge_risk',\n",
    "'total_diag_risk','emerg_nr','number_diagnoses','sum_intervention_nr','sum_number_diagnoses','sum_num_lab_procedures',\n",
    "'sum_time_in_hospital','num_medications','total_drug_risk','diag_nr','repaglinide','insulin','metformin','glyburide',\n",
    "'rosiglitazone']\n"
   ]
  },
  {
   "cell_type": "code",
   "execution_count": 80,
   "metadata": {},
   "outputs": [],
   "source": [
    "xgbfir_best_clas = ['encounter_nr','number_inpatient','sum_number_inpatient','total_diag_risk','patient_nbr','discharge_risk',\n",
    "'diag_risk_sum','sum_intervention_nr','payer_code_cat','emerg_nr','sum_discharge_risk','sum_emerg_nr','intervention_nr',\n",
    "'weight_cat','num_lab_procedures','diag_1_cat','admission_type_id','diag_2_cat','diag_risk_max','diag_3_cat',\n",
    "'sum_num_lab_procedures','sum_num_medications','medical_specialty_cat','sum_drug_risk','time_in_hospital','number_diagnoses',\n",
    "'total_drug_risk','age_cat','sum_number_diagnoses','discharge_disposition_id','race_cat','admission_source_id',\n",
    "'num_medications','sum_ambulatory_nr','sum_number_outpatient','glipizide','number_emergency','sum_time_in_hospital',\n",
    "'sum_num_procedures','max_glu_serum_cat','num_procedures','repaglinide','number_outpatient','insulin','diag_ihd_cat',\n",
    "'pioglitazone','expired_cat','gender_cat','metformin','A1Cresult_cat','ambulatory_nr','sum_number_emergency','diag_ha_cat',\n",
    "'glimepiride','drug_multi_nr','glyburide','diag_high_number_80_cat','drug_down_cat','drug_up_cat','diag_complication_cat',\n",
    "'diag_circul_cat','rosiglitazone','change','diag_obesity_cat','drug_change_cat','diabetesMed',]"
   ]
  },
  {
   "cell_type": "code",
   "execution_count": 81,
   "metadata": {},
   "outputs": [],
   "source": [
    "xgbfir_best_reg = ['encounter_nr','number_inpatient','sum_number_inpatient','total_diag_risk','discharge_risk','patient_nbr',\n",
    "'diag_risk_sum','emerg_nr','payer_code_cat','sum_intervention_nr','sum_discharge_risk','sum_emerg_nr','intervention_nr',\n",
    "'weight_cat','num_lab_procedures','sum_number_diagnoses','admission_type_id','diag_2_cat','diag_risk_max','diag_1_cat',\n",
    "'sum_num_lab_procedures','diag_3_cat','number_diagnoses','sum_num_medications','num_medications','discharge_disposition_id',\n",
    "'age_cat','time_in_hospital','sum_drug_risk','medical_specialty_cat','total_drug_risk','num_procedures','admission_source_id',\n",
    "'number_outpatient','sum_number_outpatient','sum_time_in_hospital','insulin','max_glu_serum_cat','repaglinide','glipizide',\n",
    "'race_cat','sum_ambulatory_nr','sum_num_procedures','metformin','expired_cat','number_emergency','diag_high_number_80_cat',\n",
    "'glimepiride','ambulatory_nr','pioglitazone','glyburide','A1Cresult_cat','diag_complication_cat','diag_circul_cat',\n",
    "'drug_multi_nr','change','gender_cat','acarbose','diag_ihd_cat','sum_number_emergency','diabetesMed','rosiglitazone',\n",
    "'diag_obesity_cat','diag_ha_cat','nateglinide','drug_change_cat','glyburide-metformin',]"
   ]
  },
  {
   "cell_type": "markdown",
   "metadata": {},
   "source": [
    "### szukanie najlepszego punktu odcięcia"
   ]
  },
  {
   "cell_type": "code",
   "execution_count": 94,
   "metadata": {},
   "outputs": [
    {
     "name": "stdout",
     "output_type": "stream",
     "text": [
      "(('test', 4270, 28900), ('train', 5721, 27330), ('score', 1.1934023294215332)) 45\n",
      "(('test', 4233, 28937), ('train', 5721, 27330), ('score', 1.1920515623452927)) 46\n",
      "(('test', 4181, 28989), ('train', 5721, 27330), ('score', 1.1904286186895825)) 47\n",
      "(('test', 4151, 29019), ('train', 5721, 27330), ('score', 1.1904286186895823)) 48\n",
      "(('test', 4105, 29065), ('train', 5721, 27330), ('score', 1.1879900460665431)) 49\n",
      "(('test', 4068, 29102), ('train', 5721, 27330), ('score', 1.1898871455577757)) 50\n",
      "(('test', 4032, 29138), ('train', 5721, 27330), ('score', 1.1904286186895825)) 51\n",
      "(('test', 3994, 29176), ('train', 5721, 27330), ('score', 1.1923218381819696)) 52\n",
      "(('test', 3957, 29213), ('train', 5721, 27330), ('score', 1.1909698456412499)) 53\n",
      "(('test', 3925, 29245), ('train', 5721, 27330), ('score', 1.1923218381819696)) 54\n",
      "(('test', 3901, 29269), ('train', 5721, 27330), ('score', 1.1909698456412499)) 55\n",
      "(('test', 3865, 29305), ('train', 5721, 27330), ('score', 1.1931322983445567)) 56\n",
      "(('test', 3845, 29325), ('train', 5721, 27330), ('score', 1.196099287277824)) 57\n",
      "(('test', 3816, 29354), ('train', 5721, 27330), ('score', 1.2004018165926618)) 58\n",
      "(('test', 3800, 29370), ('train', 5721, 27330), ('score', 1.202011294611506)) 59\n"
     ]
    }
   ],
   "source": [
    "model_feats = xgbfir_best_reg\n",
    "model_feats = [feat for feat in model_feats if feat not in black_list_feats]\n",
    "with_params = {\n",
    "    'feats' : model_feats,\n",
    "    'model' : xgb.XGBRegressor,\n",
    "    'params': {'n_jobs': 8,\n",
    "               'random_state': 2019,\n",
    "               'objective': 'reg:squarederror',\n",
    "               'max_depth': 5,\n",
    "               'subsample': 0.95},\n",
    "    'cv'    : StratifiedKFold(n_splits=4, random_state=2019),\n",
    "    'plot'  : None,\n",
    "    'csv'   : None,\n",
    "    'cut'   : 0\n",
    "}\n",
    "result = None\n",
    "for x in range(45, 60):\n",
    "    with_params['cut'] = x\n",
    "    result = run_model(**with_params)\n",
    "    print(result[:3], x)"
   ]
  },
  {
   "cell_type": "markdown",
   "metadata": {},
   "source": [
    "### model wybrany do oceny - 1.20377 -> 1.25244"
   ]
  },
  {
   "cell_type": "code",
   "execution_count": 97,
   "metadata": {},
   "outputs": [
    {
     "name": "stdout",
     "output_type": "stream",
     "text": [
      "Wall time: 19.7 s\n",
      "(('test', 3982, 29188), ('train', 5721, 27330), ('score', 1.17845873983817))\n"
     ]
    },
    {
     "data": {
      "image/png": "[encoded data removed]",
      "text/plain": [
       "<Figure size 432x288 with 1 Axes>"
      ]
     },
     "metadata": {
      "needs_background": "light"
     },
     "output_type": "display_data"
    }
   ],
   "source": [
    "with_params = { # model 29\n",
    "    'feats' : ['patient_nbr', 'admission_type_id','discharge_disposition_id', 'admission_source_id',\n",
    "       'time_in_hospital', 'num_lab_procedures', 'num_procedures','num_medications', 'number_outpatient', 'number_emergency',\n",
    "       'number_inpatient', 'number_diagnoses', 'metformin', 'repaglinide','nateglinide', 'chlorpropamide', 'glimepiride', \n",
    "               'acetohexamide',\n",
    "       'glipizide', 'glyburide', 'tolbutamide', 'pioglitazone','rosiglitazone', 'acarbose', 'miglitol', 'troglitazone',\n",
    "       'tolazamide', 'examide', 'citoglipton', 'insulin','glyburide-metformin', 'glipizide-metformin',\n",
    "       'glimepiride-pioglitazone', 'metformin-rosiglitazone','metformin-pioglitazone', 'change', 'diabetesMed', \n",
    "       'race_cat', 'gender_cat', 'payer_code_cat','medical_specialty_cat', 'diag_1_cat', 'diag_2_cat', 'diag_3_cat',\n",
    "       'age_cat', 'weight_cat', 'max_glu_serum_cat', 'A1Cresult_cat','diag_nr', 'encounter_nr', 'intervention_nr', 'emerg_nr',\n",
    "       'ambulatory_nr', 'diag_complication_cat', 'diag_ha_cat','diag_ihd_cat', 'diag_circul_cat', 'diag_obesity_cat',\n",
    "       'diag_high_number_80_cat', 'diag_high_risk_80_cat','diag_risk_max', 'diag_risk_max_log', 'diag_risk_sum',\n",
    "       'diag_risk_sum_log', 'total_diag_risk', 'total_diag_risk_log','expired_cat', 'discharge_risk', 'sum_discharge_risk',\n",
    "       'sum_discharge_risk_log', 'sum_number_outpatient','sum_number_emergency', 'sum_number_inpatient',\n",
    "       'sum_num_procedures', 'sum_num_lab_procedures','sum_time_in_hospital', 'drug_multi_nr', 'drug_multi_cat',\n",
    "       'drug_none_cat', 'drug_insulin_cat', 'drug_change_cat','drug_up_cat', 'drug_down_cat', 'sum_time_in_hospital_log',\n",
    "       'sum_num_lab_procedures_log', 'sum_num_procedures_log','sum_num_medications', 'sum_num_medications_log',\n",
    "       'sum_number_outpatient_log', 'sum_number_emergency_log','sum_number_inpatient_log', 'sum_number_diagnoses',\n",
    "       'sum_number_diagnoses_log', 'sum_intervention_nr','sum_intervention_nr_log', 'sum_emerg_nr', 'sum_emerg_nr_log',\n",
    "       'sum_ambulatory_nr', 'sum_ambulatory_nr_log', 'sum_drug_multi_nr','sum_drug_multi_nr_log', 'total_diag_risk',\n",
    "       'total_diag_risk_log', 'sum_diag_nr', 'sum_diag_nr_log'],\n",
    "    'model' : xgb.XGBClassifier,\n",
    "    'params': {'n_jobs': 8,\n",
    "               'random_state': 2019,\n",
    "               'objective': 'reg:squarederror',\n",
    "               'max_depth': 5,\n",
    "               'subsample': 0.95,\n",
    "               'colsample_bylevel': 0.95,\n",
    "               'colsample_bynode': 0.95, \n",
    "               'colsample_bytree': 0.95},\n",
    "    'cv'    : None,\n",
    "    'plot'  : True,\n",
    "    'csv'   : 'submit_model29_clas_all.csv'    \n",
    "}\n",
    "\n",
    "%time result = run_model(**with_params)\n",
    "print(result[:3])"
   ]
  },
  {
   "cell_type": "markdown",
   "metadata": {},
   "source": [
    "### model wybrany do oceny - 1.20466 -> 1.25317 "
   ]
  },
  {
   "cell_type": "code",
   "execution_count": 98,
   "metadata": {},
   "outputs": [
    {
     "name": "stdout",
     "output_type": "stream",
     "text": [
      "(('test', 3892, 29278), ('train', 5721, 27330), ('score', (1.106832244964624, 0.9424828295664276))) 55\n"
     ]
    }
   ],
   "source": [
    "with_params = {\n",
    "    'feats_1' : xgbfir_best_reg,\n",
    "    'model_1' : xgb.XGBRegressor,\n",
    "    'params_1': {'n_jobs': 8,\n",
    "               'objective': 'reg:squarederror',\n",
    "               'max_depth': 5,\n",
    "                'learning_rate': 0.19692940856713395, \n",
    "                 'random_state': 47, \n",
    "                 'subsample': 0.9816247081732863},\n",
    "    \n",
    "    'feats_2' : xgbfir_best_clas + ['model1_cat'],\n",
    "    'model_2' : xgb.XGBClassifier,\n",
    "    'params_2': {'n_jobs': 8,\n",
    "               'max_depth': 5,              \n",
    "               'n_estimators': 100,\n",
    "               'objective': 'binary:logistic',\n",
    "                'learning_rate': 0.19771209231383705, \n",
    "                 'random_state': 10, \n",
    "                 'subsample': 0.9975635280860219},\n",
    "    \n",
    "    'cv'    : None,\n",
    "    'plot'  : None,\n",
    "    'csv'   : 'last.csv',\n",
    "    'cut'   : 40\n",
    "}\n",
    "\n",
    "for x in range(55, 56):\n",
    "    with_params['cut'] = x\n",
    "    result = run_two_models(**with_params)\n",
    "    print(result[:3], x)"
   ]
  },
  {
   "cell_type": "markdown",
   "metadata": {},
   "source": [
    "### najlepszy model - 1.20466 -> 1.24067"
   ]
  },
  {
   "cell_type": "code",
   "execution_count": 100,
   "metadata": {},
   "outputs": [
    {
     "name": "stdout",
     "output_type": "stream",
     "text": [
      "(('test', 3977, 29193), ('train', 5721, 27330), ('score', 1.1839145965045461)) 49\n"
     ]
    }
   ],
   "source": [
    "with_params = { # model 27\n",
    "    'feats' : ['patient_nbr', 'admission_type_id','discharge_disposition_id', 'admission_source_id',\n",
    "       'time_in_hospital', 'num_lab_procedures', 'num_procedures','num_medications', 'number_outpatient', 'number_emergency',\n",
    "       'number_inpatient', 'number_diagnoses', 'metformin', 'repaglinide','nateglinide', 'chlorpropamide', 'glimepiride', \n",
    "               'acetohexamide',\n",
    "       'glipizide', 'glyburide', 'tolbutamide', 'pioglitazone','rosiglitazone', 'acarbose', 'miglitol', 'troglitazone',\n",
    "       'tolazamide', 'examide', 'citoglipton', 'insulin','glyburide-metformin', 'glipizide-metformin',\n",
    "       'glimepiride-pioglitazone', 'metformin-rosiglitazone','metformin-pioglitazone', 'change', 'diabetesMed',\n",
    "       'race_cat', 'gender_cat', 'payer_code_cat','medical_specialty_cat', 'diag_1_cat', 'diag_2_cat', 'diag_3_cat',\n",
    "       'age_cat', 'weight_cat', 'max_glu_serum_cat', 'A1Cresult_cat','diag_nr', 'encounter_nr', 'intervention_nr', 'emerg_nr',\n",
    "       'ambulatory_nr', 'diag_ha_cat', 'diag_ihd_cat', 'diag_circul_cat','diag_obesity_cat', 'diag_high_number_80_cat',\n",
    "       'diag_high_risk_80_cat', 'drug_change_cat', 'drug_up_cat','drug_down_cat', 'drug_multi_nr', 'drug_multi_cat',\n",
    "       'drug_none_cat', 'drug_insulin_cat', 'model1_cat', 'diag_risk_max','diag_risk_sum', 'total_diag_risk', \n",
    "               'total_diag_risk_log',\n",
    "       'diag_risk_max_log', 'diag_risk_sum_log', 'sum_number_outpatient','sum_number_emergency', 'sum_number_inpatient',\n",
    "       'sum_num_procedures', 'sum_num_lab_procedures','sum_time_in_hospital', 'sum_num_medications',\n",
    "       'sum_number_diagnoses', 'sum_intervention_nr', 'sum_emerg_nr','sum_ambulatory_nr', 'sum_time_in_hospital_log',\n",
    "       'sum_num_lab_procedures_log', 'sum_num_procedures_log','sum_num_medications_log', 'sum_number_outpatient_log',\n",
    "       'sum_number_emergency_log', 'sum_number_inpatient_log','sum_number_diagnoses_log', 'sum_intervention_nr_log',\n",
    "       'sum_emerg_nr_log', 'sum_ambulatory_nr_log', 'sum_drug_multi_nr','sum_drug_multi_nr_log', 'total_diag_risk',\n",
    "       'total_diag_risk_log', 'diag_complication_cat', 'sum_diag_nr','sum_diag_nr_log'],\n",
    "    'model' : xgb.XGBRegressor,\n",
    "    'params': {'n_jobs': 8,\n",
    "               'random_state': 2019,\n",
    "               'objective': 'reg:squarederror',\n",
    "               'max_depth': 5,\n",
    "               'subsample': 0.95},\n",
    "    'cv'    : None,\n",
    "    'plot'  : None,\n",
    "    'csv'   : 'submit_model27_reg_log_all.csv',\n",
    "    'cut'   : 40\n",
    "}\n",
    "result = None\n",
    "for x in range(49, 50):\n",
    "    with_params['cut'] = x\n",
    "    result = run_model(**with_params)\n",
    "    print(result[:3], x)"
   ]
  },
  {
   "cell_type": "markdown",
   "metadata": {},
   "source": [
    "### ile błędów w predykcji dla 30% i 70% - dla wyników '0' lub '100'"
   ]
  },
  {
   "cell_type": "code",
   "execution_count": null,
   "metadata": {},
   "outputs": [],
   "source": [
    "total_number = 33170\n",
    "fract = 0.3\n",
    "part = int(total_number * fract)\n",
    "\n",
    "for x in range(0, part-1):\n",
    "    exp_train = np.array([0] * part)\n",
    "    exp_test = np.array(([0] * (part-x)) + ([100] * x))\n",
    "    result = rmsle(exp_train, exp_test)\n",
    "    if result > 1.19215:\n",
    "        print (x, result)\n",
    "        break\n",
    "\n",
    "# 664 1.1921577407154704 1.19215        \n",
    "# 671 1.1984252297849942 1.19842\n",
    "# 677 1.2037713911774424 1.20377\n",
    "# 678 1.2046601114101099 1.20466\n",
    "# 679 1.2055481764856852 1.20554\n",
    "# 760 1.2754295637395079 1.27542\n",
    "# 863 1.359111481082803 1.35904\n",
    "# 870 1.3646123884270185 1.36461"
   ]
  },
  {
   "cell_type": "code",
   "execution_count": null,
   "metadata": {},
   "outputs": [],
   "source": [
    "total_number = 33170\n",
    "fract = 0.7\n",
    "part = int(total_number * fract)\n",
    "\n",
    "for x in range(0, part-1):\n",
    "    exp_train = np.array([0] * part)\n",
    "    exp_test = np.array(([0] * (part-x)) + ([100] * x))\n",
    "    result = rmsle(exp_train, exp_test)\n",
    "    if result > 1.37903:\n",
    "        print (x, result)\n",
    "        break\n",
    "\n",
    "# 1630 1.2227990506636657 1.22279      \n",
    "# 1647 1.2291590702706483 1.22915\n",
    "# 1693 1.2462058044513455 1.24620\n",
    "# 1710 1.2524469684473143 1.25244\n",
    "# 1829 1.2952933725011357 1.29529\n",
    "# 2074 1.3793220111367726 1.37903"
   ]
  }
 ],
 "metadata": {
  "kernelspec": {
   "display_name": "Python 3",
   "language": "python",
   "name": "python3"
  },
  "language_info": {
   "codemirror_mode": {
    "name": "ipython",
    "version": 3
   },
   "file_extension": ".py",
   "mimetype": "text/x-python",
   "name": "python",
   "nbconvert_exporter": "python",
   "pygments_lexer": "ipython3",
   "version": "3.7.1"
  }
 },
 "nbformat": 4,
 "nbformat_minor": 2
}
